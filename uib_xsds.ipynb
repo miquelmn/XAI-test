{
 "cells": [
  {
   "cell_type": "markdown",
   "metadata": {},
   "source": [
    "# UIB XSDS\n",
    "\n",
    "![SegmentLocal](office.gif \"segment\")\n",
    "\n",
    "**Objectius**:\n",
    "\n",
    "- [x] Crear una xarxa simple de regressió que permeti predir quants d'objects hi ha de cada tipus a una imatge **Sense overfitting**.\n",
    "- [x] Aplicar LIME per obtenir explicacions de les prediccions i comprovar que són coherents.\n",
    "- [x] Modificar la sortida de la xarxa perquè enlloc de prediure la quantitat d'objectes calculi les funcions de *P. Cortez et al.*\n",
    "- [x] Calcular mètriques per saber si les explicacions corresponen a les esperades."
   ]
  },
  {
   "cell_type": "code",
   "execution_count": null,
   "metadata": {},
   "outputs": [],
   "source": [
    "from typing import List, Callable, Tuple\n",
    "import time\n",
    "import copy\n",
    "import glob\n",
    "\n",
    "from torchvision import datasets, models, transforms\n",
    "from torch.utils.data import DataLoader\n",
    "from torch.utils.data import Dataset\n",
    "from matplotlib import pyplot as plt\n",
    "import torch.nn.functional as F\n",
    "from torch import nn\n",
    "\n",
    "from skimage.segmentation import mark_boundaries\n",
    "from prettytable import PrettyTable\n",
    "from IPython import display\n",
    "from lime import lime_image\n",
    "from tqdm.auto import tqdm \n",
    "import pandas as pd\n",
    "import numpy as np\n",
    "import pylab as pl\n",
    "import torch\n",
    "import cv2\n"
   ]
  },
  {
   "cell_type": "markdown",
   "metadata": {},
   "source": [
    "# Data"
   ]
  },
  {
   "cell_type": "code",
   "execution_count": null,
   "metadata": {},
   "outputs": [],
   "source": [
    "DATASET_PATH = \"./xsds_shape_count_v2/train\"\n",
    "VAL_PATH = \"./xsds_shape_count_v2/val\""
   ]
  },
  {
   "cell_type": "code",
   "execution_count": null,
   "metadata": {},
   "outputs": [],
   "source": [
    "class ImageDataset(Dataset):\n",
    "    \"\"\"General pytorch dataset.\n",
    "\n",
    "    The data should be build with the following structure:\n",
    "        /class_1\n",
    "            img1.png\n",
    "            img2.png\n",
    "            ...\n",
    "        /class_2\n",
    "            img1.png\n",
    "            img2.png\n",
    "            ...\n",
    "    \"\"\"\n",
    "\n",
    "    def __init__(\n",
    "        self,\n",
    "        file_names: List[str],\n",
    "        get_img_fn: Callable,\n",
    "        gt_info: List[List[int]],\n",
    "        fn_agg\n",
    "    ):\n",
    "        self.__get_img_fn = get_img_fn\n",
    "\n",
    "        self.__file_names = file_names\n",
    "        self.__labels = gt_info\n",
    "        self.__fn_agg = fn_agg\n",
    "\n",
    "    def __getitem__(self, index: int) -> Tuple[np.array, torch.Tensor]:\n",
    "        img_path = self.__file_names[index]\n",
    "        image = self.__get_img_fn(img_path)\n",
    "\n",
    "        label = np.array(self.__labels[index], dtype=np.float32)\n",
    "    \n",
    "        y = self.__fn_agg(label)\n",
    "\n",
    "        return image, torch.from_numpy(y)\n",
    "\n",
    "    def __len__(self) -> int:\n",
    "        return len(self.__file_names)"
   ]
  },
  {
   "cell_type": "code",
   "execution_count": null,
   "metadata": {},
   "outputs": [],
   "source": [
    "def normalize_pandas(df):\n",
    "    for key in df.columns:\n",
    "        df[key] = (df[key]-df[key].min())/(df[key].max()-df[key].min())\n",
    "    \n",
    "    return df\n",
    "\n",
    "def ssim(label):\n",
    "    first_term = 1/2 * np.sin(np.pi * (label[0] / 2))\n",
    "    second_term = 1/4 * np.sin(np.pi * (label[1] / 2))\n",
    "    third_term = 1/6 * np.sin(np.pi * (label[2] / 2))\n",
    "        \n",
    "    y = [first_term +  second_term + third_term]\n",
    "    \n",
    "    return np.array(y)\n",
    "\n",
    "\n",
    "def suum(label):\n",
    "    first_term = 1/2 * label[0]\n",
    "    second_term = 1/4 * label[1]\n",
    "    third_term = 1/6 * label[2]\n",
    "        \n",
    "    y = [first_term +  second_term + third_term]\n",
    "    \n",
    "    return np.array(y)\n"
   ]
  },
  {
   "cell_type": "code",
   "execution_count": null,
   "metadata": {},
   "outputs": [],
   "source": [
    "df = pd.read_csv(f\"{DATASET_PATH}/dades.csv\", sep=\";\")\n",
    "df_val = pd.read_csv(f\"{VAL_PATH}/dades.csv\", sep=\";\")\n",
    "\n",
    "df = df.drop('Unnamed: 0', axis=1)\n",
    "df_val = df_val.drop('Unnamed: 0', axis=1)\n",
    "\n",
    "df = normalize_pandas(df)\n",
    "df_val = normalize_pandas(df_val)  \n",
    "\n",
    "gt = df.values.tolist()\n",
    "gt_val = df_val.values.tolist();"
   ]
  },
  {
   "cell_type": "code",
   "execution_count": null,
   "metadata": {},
   "outputs": [],
   "source": [
    "dat_train = ImageDataset(\n",
    "    sorted(glob.glob(f\"{DATASET_PATH}/*.png\")), \n",
    "    lambda x: cv2.imread(x, cv2.IMREAD_GRAYSCALE).reshape(1, 512, 512), \n",
    "    gt, \n",
    "    suum\n",
    ")\n",
    "dat_valid = ImageDataset(\n",
    "    sorted(glob.glob(f\"{VAL_PATH}/*.png\")), \n",
    "    lambda x: cv2.imread(x, cv2.IMREAD_GRAYSCALE).reshape(1, 512, 512), \n",
    "    gt_val,\n",
    "    suum\n",
    ")\n",
    "\n",
    "\n",
    "data_loader_train = DataLoader(dat_train, batch_size=128, shuffle=False)\n",
    "data_loader_val = DataLoader(dat_valid, batch_size=128, shuffle=False)"
   ]
  },
  {
   "cell_type": "markdown",
   "metadata": {},
   "source": [
    "# Instance NN and train\n",
    "\n",
    "![SegmentLocal](https://imgs.xkcd.com/comics/machine_learning.png \"segment\")\n",
    "\n",
    "### Quadern de bitàcora\n",
    "**Canvi actual**: \n",
    "\n",
    "Val Acc : 0.97\n",
    "\n",
    "- Retorn a l'arquitectura simple.\n",
    "- Funció $ssim(x)$ original, ara dividim els valors de $x_n$ per 2.\n",
    "\n",
    "**Old**\n",
    "\n",
    "\n",
    "- Dropout 0.4  &#8594; 0.2\n",
    "- ReLU -> Leaky ReLU\n",
    "\n",
    "***\n",
    "\n",
    "- Dropout 0.2  &#8594; 0.4\n",
    "\n",
    "***\n",
    "\n",
    "Val ACC : 0.887\n",
    "\n",
    "- `1/3 * np.sin(np.pi * (label[0])) if label[0] > 0 else 0` &#8594; `1/2 * np.sin(np.pi * (1 - label[0])) if label[0] > 0 else 0` \n",
    "- Tercera capa densa.\n",
    "\n",
    "***\n",
    "\n",
    "- `1/2 * np.sin(np.pi * (1 - label[0])) if label[0] > 0 else 0` &#8594; `1/3 * np.sin(np.pi * (label[0])) if label[0] > 0 else 0`\n",
    "\n",
    "***\n",
    "\n",
    "- *Learning rate*. De 0.005 a 0.001\n",
    "- *Dropout*. De 0.5 a 0.2"
   ]
  },
  {
   "cell_type": "code",
   "execution_count": null,
   "metadata": {},
   "outputs": [],
   "source": [
    "device = torch.device(\"cuda\" if torch.cuda.is_available() else \"cpu\")"
   ]
  },
  {
   "cell_type": "code",
   "execution_count": null,
   "metadata": {},
   "outputs": [],
   "source": [
    "class Net(nn.Module):\n",
    "    def __init__(self, numChannels, classes):\n",
    "        # call the parent constructor\n",
    "        super(Net, self).__init__()\n",
    "\n",
    "        self.conv1 = nn.Conv2d(in_channels=numChannels, out_channels=25,\n",
    "            kernel_size=(3, 3), padding=\"same\")\n",
    "        self.relu1 = nn.ReLU()\n",
    "        self.maxpool1 = nn.MaxPool2d(kernel_size=(2, 2), stride=(2, 2))\n",
    "        \n",
    "        self.conv2 = nn.Conv2d(in_channels=25, out_channels=50,\n",
    "            kernel_size=(3, 3), padding=\"same\")\n",
    "        self.relu2 = nn.ReLU()\n",
    "        self.maxpool2 = nn.MaxPool2d(kernel_size=(2, 2), stride=(2, 2))\n",
    "\n",
    "        self.conv3 = nn.Conv2d(in_channels=50, out_channels=50,\n",
    "            kernel_size=(3, 3), padding=\"same\")\n",
    "        self.relu3 = nn.ReLU()\n",
    "        self.maxpool3 = nn.MaxPool2d(kernel_size=(2, 2), stride=(2, 2))\n",
    "        \n",
    "        self.fc1 = nn.Linear(in_features=64*64*50, out_features=50)\n",
    "        self.relu5 = nn.ReLU()\n",
    "        \n",
    "        self.fc2 = nn.Linear(in_features=50, out_features=classes)\n",
    "    \n",
    "    def forward(self, x):\n",
    "        x = self.conv1(x)\n",
    "        x = self.relu1(x)\n",
    "        x = self.maxpool1(x)\n",
    "        \n",
    "        x = self.conv2(x)\n",
    "        x = self.relu2(x)\n",
    "        x = self.maxpool2(x)\n",
    "        \n",
    "        x = self.conv3(x)\n",
    "        x = self.relu3(x)\n",
    "        x = self.maxpool3(x)\n",
    "        \n",
    "        \n",
    "        x = torch.flatten(x, 1)\n",
    "        \n",
    "        x = self.fc1(x)\n",
    "        x = self.relu5(x)\n",
    "        \n",
    "        x = self.fc2(x)\n",
    "        \n",
    "        return x"
   ]
  },
  {
   "cell_type": "code",
   "execution_count": null,
   "metadata": {},
   "outputs": [],
   "source": [
    "%matplotlib inline\n",
    "\n",
    "def train_model(\n",
    "    model, \n",
    "    dataloaders, \n",
    "    criterion, \n",
    "    optimizer, \n",
    "    num_epochs=25, \n",
    "    is_inception=False, \n",
    "    do_validation=True, \n",
    "    regression=False,\n",
    "    plot_acc=False,\n",
    "):\n",
    "    since = time.time()\n",
    "\n",
    "    history = {}\n",
    "    \n",
    "    best_model_wts = copy.deepcopy(model.state_dict())\n",
    "    best_acc = 0.0\n",
    "    best_acc_std = 0.0\n",
    "    best_loss = 0.0\n",
    "    best_loss_std = 0.0\n",
    "    \n",
    "    phases = ['train']\n",
    "    \n",
    "    if do_validation:\n",
    "        phases.append('val')\n",
    "        \n",
    "    epoch_loss = 0\n",
    "    epoch_acc = 0\n",
    "    try:\n",
    "        for epoch in range(num_epochs):\n",
    "            # Each epoch has a training and validation phase\n",
    "            for phase in phases:\n",
    "                if phase == 'train':\n",
    "                    model.train()  # Set model to training mode\n",
    "                else:\n",
    "                    model.eval()   # Set model to evaluate mode\n",
    "\n",
    "                running_loss = []\n",
    "                running_acc = []\n",
    "\n",
    "                pbar = tqdm(dataloaders[phase], desc='Time, he\\'s waiting in the wings')\n",
    "                # Iterate over data.\n",
    "                for inputs, labels in pbar:\n",
    "                    inputs = inputs.to(device)\n",
    "                    labels = labels.to(device)\n",
    "\n",
    "                    inputs = inputs.type(torch.float32)\n",
    "\n",
    "                    # zero the parameter gradients\n",
    "                    optimizer.zero_grad()\n",
    "\n",
    "                    # forward\n",
    "                    # track history if only in train\n",
    "                    with torch.set_grad_enabled(phase == 'train'):\n",
    "                        # Get model outputs and calculate loss\n",
    "                        # Special case for inception because in training it has an auxiliary output. In train\n",
    "                        #   mode we calculate the loss by summing the final output and the auxiliary output\n",
    "                        #   but in testing we only consider the final output.\n",
    "                        outputs = model(inputs)\n",
    "\n",
    "                        loss = criterion(outputs.reshape(1, -1), labels.reshape(1, -1))\n",
    "\n",
    "                        _, preds = torch.max(outputs, 1)\n",
    "\n",
    "                        # backward + optimize only if in training phase\n",
    "                        if phase == 'train':\n",
    "                            loss.backward()\n",
    "                            optimizer.step()\n",
    "\n",
    "                    # statistics\n",
    "                    running_loss.append((loss.item() * inputs.size(0)) / len(outputs))\n",
    "                    if not regression:\n",
    "                        aux = (preds == torch.max(labels, 1)[1])\n",
    "                        running_acc.append((torch.sum(aux).double().cpu().detach().numpy() / len(outputs)))\n",
    "                    else:\n",
    "                        running_acc.append(torch.sum(torch.abs(outputs - labels)).double().cpu().detach().numpy() / len(outputs))\n",
    "\n",
    "                    pbar.set_description('Epoch {}/{} - {} - ACC: {:.4f} LOSS: {:.4f}'.format(epoch, num_epochs - 1, phase.capitalize(), 1 - min(1, np.mean(running_acc)), np.mean(running_loss)))\n",
    "\n",
    "                epoch_loss = np.mean(running_loss)\n",
    "                epoch_acc = np.mean(running_acc)\n",
    "\n",
    "\n",
    "                if regression:\n",
    "                    epoch_acc = 1 - min(1, epoch_acc)\n",
    "\n",
    "                # deep copy the model\n",
    "                if (phase == 'val' or not 'val' in phases) and epoch_acc > best_acc:\n",
    "                    best_acc = epoch_acc\n",
    "                    best_loss = epoch_loss\n",
    "\n",
    "                    best_loss_std = np.std(running_loss)\n",
    "                    best_acc_std = np.std(running_acc)\n",
    "\n",
    "                    best_model_wts = copy.deepcopy(model.state_dict())\n",
    "\n",
    "                if phase not in history:\n",
    "                    history[phase] = []\n",
    "\n",
    "                history[phase].append(epoch_acc)\n",
    "\n",
    "            if plot_acc:\n",
    "                plt.figure(figsize=(15,15))\n",
    "\n",
    "                pl.title('Best Acc: [{:4f}-{:4f}]'.format(best_acc - (best_acc_std / 2), best_acc + (best_acc_std / 2)))\n",
    "\n",
    "                for phase in phases:\n",
    "                    pl.plot(history[phase], label=phase.capitalize())\n",
    "\n",
    "                pl.legend()\n",
    "                display.clear_output(wait=True) \n",
    "                display.display(pl.gcf())\n",
    "                plt.close()                    \n",
    "\n",
    "    except KeyboardInterrupt:\n",
    "        print('Interrupted')\n",
    "    except Exception as e:\n",
    "        print(e)\n",
    "    finally:\n",
    "        time_elapsed = time.time() - since\n",
    "        print('Training complete in {:.0f}m {:.0f}s'.format(time_elapsed // 60, time_elapsed % 60))\n",
    "        print('Best val Acc: [{:4f}-{:4f}]'.format(best_acc - best_acc_std/2, best_acc + best_acc_std/2))\n",
    "        \n",
    "        # load best model weights\n",
    "        model.load_state_dict(best_model_wts)\n",
    "        return model, history"
   ]
  },
  {
   "cell_type": "code",
   "execution_count": null,
   "metadata": {},
   "outputs": [],
   "source": [
    "net = Net(1, 3)\n",
    "\n",
    "model = nn.Sequential(net, nn.Sequential(\n",
    "                            nn.Linear(in_features=3, out_features=10),\n",
    "                            nn.ReLU(),\n",
    "                            nn.Linear(in_features=10, out_features=10),\n",
    "                            nn.ReLU(),\n",
    "                            nn.Linear(in_features=10, out_features=1)\n",
    "                        )\n",
    "                     )\n",
    "\n",
    "model = nn.DataParallel(model)\n",
    "model = model.to(device)"
   ]
  },
  {
   "cell_type": "code",
   "execution_count": null,
   "metadata": {
    "scrolled": false
   },
   "outputs": [],
   "source": [
    "criterion = nn.L1Loss()\n",
    "optimizer = optimizer_ft = torch.optim.SGD(model.parameters(), lr=0.01, momentum=0.7)\n",
    "\n",
    "# Train and evaluate\n",
    "net, hist = train_model(\n",
    "    model, \n",
    "    {\"train\": data_loader_train, \"val\": data_loader_val}, \n",
    "    criterion, \n",
    "    optimizer_ft, \n",
    "    num_epochs=500, \n",
    "    do_validation=True,\n",
    "    regression=True,\n",
    "    plot_acc=True\n",
    ")"
   ]
  },
  {
   "cell_type": "code",
   "execution_count": null,
   "metadata": {},
   "outputs": [],
   "source": [
    "max(hist['val'])"
   ]
  },
  {
   "cell_type": "markdown",
   "metadata": {},
   "source": [
    "### Resultats\n",
    "\n",
    "![SegmentLocal](./mem.jpg \"segment\")"
   ]
  },
  {
   "cell_type": "code",
   "execution_count": null,
   "metadata": {},
   "outputs": [],
   "source": [
    "# model.load_state_dict(torch.load('ssim_xsds_values.pt'));\n",
    "# torch.save(model.state_dict(), 'ssim_xsds_values.pt')"
   ]
  },
  {
   "cell_type": "code",
   "execution_count": null,
   "metadata": {},
   "outputs": [],
   "source": [
    "for img, gt in data_loader_val:\n",
    "    break\n",
    "model = model.eval()\n",
    "pred = model(img.to(device).type(torch.float32))\n",
    "img = img.to(device).type(torch.float32)\n",
    "\n",
    "res_val = []\n",
    "diff = np.abs(pred.detach().cpu().numpy() - gt.cpu().numpy())\n",
    "\n",
    "print(np.mean(diff), np.std(diff))"
   ]
  },
  {
   "cell_type": "code",
   "execution_count": null,
   "metadata": {},
   "outputs": [],
   "source": [
    "pred = pred.detach().cpu().numpy()"
   ]
  },
  {
   "cell_type": "code",
   "execution_count": null,
   "metadata": {
    "scrolled": false
   },
   "outputs": [],
   "source": [
    "x = PrettyTable()\n",
    "x.field_names = [\"Prediction\", \"GT\", \"Diff\"]\n",
    "\n",
    "for i, (p, gt_img) in enumerate(zip(pred, gt.numpy())):\n",
    "    p = np.abs(p)[0]\n",
    "    gt_img = np.abs(gt_img[0])\n",
    "    \n",
    "    x.add_row([f\"{p:.2f}\", f\"{gt_img:.2f}\", f\"{(p - gt_img):.2f}\"])\n",
    "    \n",
    "    if i > 10:\n",
    "        break\n",
    "\n",
    "print(x)"
   ]
  },
  {
   "cell_type": "markdown",
   "metadata": {},
   "source": [
    "# XAI"
   ]
  },
  {
   "cell_type": "code",
   "execution_count": null,
   "metadata": {},
   "outputs": [],
   "source": [
    "def gt_exp_gen(paths):\n",
    "    for path in paths:\n",
    "        img = cv2.imread(path)\n",
    "        yield img\n",
    "\n",
    "def calc_metric_norm(gt_exp, explanations, dist_fn, full_data = False, plot = False):\n",
    "    count = 0\n",
    "\n",
    "    diff = []\n",
    "    ii = 1\n",
    "    for gt_img, expl in zip(gt_exp, explanations):\n",
    "        mask = np.sum(gt_img, axis=-1)\n",
    "\n",
    "        conts, _ = cv2.findContours(mask.astype(np.uint8), cv2.RETR_TREE, cv2.CHAIN_APPROX_SIMPLE)\n",
    "\n",
    "        gt_img = gt_img.astype(np.float64)\n",
    "        gt_img *= ([0.55, 0.27 * 2, 0.18 * 3])\n",
    "        max_img = gt_img.max() if gt_img.max() > 0 else 1\n",
    "        \n",
    "        gt_img /= max_img\n",
    "        \n",
    "        gt_img_resumed = np.sum(gt_img, axis=2)\n",
    "\n",
    "        expl = expl[:,:,0].astype(np.float64)\n",
    "        expl /= expl.max() if expl.max() > 0 else 1\n",
    "\n",
    "        local_diff = []\n",
    "        for c_val in [0/max_img, (1 * 0.55)/max_img, (2 * 0.27)/max_img, (3 * 0.18)/max_img]:\n",
    "            c_gt_img = gt_img_resumed[gt_img_resumed == c_val]\n",
    "            c_expl = expl[gt_img_resumed == c_val]\n",
    "            \n",
    "            aux_diff = 1 - dist_fn(c_expl, c_gt_img)\n",
    "            \n",
    "            local_diff.append(aux_diff)\n",
    "\n",
    "        if local_diff == local_diff:\n",
    "            diff.append(np.array(local_diff))\n",
    "        \n",
    "        if (ii < 17) and plot:       \n",
    "            plt.subplot(4, 4, ii)\n",
    "            plt.axis('off')\n",
    "            plt.imshow(expl)\n",
    "\n",
    "            ii += 1\n",
    "    \n",
    "    return diff\n",
    "\n",
    "\n",
    "def mae(img1, img2):\n",
    "    return (np.sum(np.abs(img1 - img2)) / img2.size)\n",
    "\n",
    "def mse(img1, img2):\n",
    "    return np.sum((img1 - img2) ** 2) / img2.size\n",
    "\n",
    "def calc_metric(gt_exp, explanations, dist_fn, full_data = False, plot = False):\n",
    "    count = 0\n",
    "\n",
    "    diff = []\n",
    "    ii = 1\n",
    "    for gt_img, expl in zip(gt_exp, explanations):\n",
    "        gt_img = gt_img.astype(np.float64)\n",
    "        gt_img *= [0.55, 0.27, 0.18]\n",
    "\n",
    "        gt_img /= gt_img.max() if gt_img.max() > 0 else 1\n",
    "        gt_img_resumed = np.sum(gt_img, axis=2)\n",
    "\n",
    "        expl = expl[:,:,0].astype(np.float64)\n",
    "\n",
    "        expl /= expl.max() if expl.max() > 0 else 1\n",
    "        \n",
    "        expl_i = expl[(gt_img_resumed > 0.05) | (expl > 0.05)]\n",
    "        gt_img_resumed_i = gt_img_resumed[(gt_img_resumed > 0.05) | (expl > 0.05)]\n",
    "        \n",
    "\n",
    "        local_diff = 1 - dist_fn(expl_i, gt_img_resumed_i)\n",
    "        \n",
    "        if local_diff == local_diff:\n",
    "            diff.append(local_diff)    \n",
    "\n",
    "\n",
    "        if (ii < 17) and plot:       \n",
    "            plt.subplot(4, 4, ii)\n",
    "            plt.axis('off')\n",
    "            plt.imshow(expl)\n",
    "            plt.title(f\"Metric {diff[-1]:.2f}\")\n",
    "\n",
    "            ii += 1\n",
    "    \n",
    "    if not full_data:\n",
    "        return np.mean(diff), np.std(diff)\n",
    "    else:\n",
    "        return np.mean(diff), np.std(diff), diff"
   ]
  },
  {
   "cell_type": "code",
   "execution_count": null,
   "metadata": {},
   "outputs": [],
   "source": [
    "def resume_metrics()"
   ]
  },
  {
   "cell_type": "markdown",
   "metadata": {},
   "source": [
    "## LIME"
   ]
  },
  {
   "cell_type": "code",
   "execution_count": null,
   "metadata": {},
   "outputs": [],
   "source": [
    "def segment_circles(image):\n",
    "    return image[:, :, 0]\n",
    "\n",
    "def own_segment(image):\n",
    "    aux_img_seg = np.zeros_like(image.astype(np.uint8)[:, :, 0], dtype=np.uint8)\n",
    "    cont, _ = cv2.findContours(image.astype(np.uint8)[:, :, 0], cv2.RETR_TREE, cv2.CHAIN_APPROX_SIMPLE)\n",
    "\n",
    "    for i, c in enumerate(cont):\n",
    "        cv2.drawContours(aux_img_seg, [c], -1, i+1, -1)\n",
    "    \n",
    "    return aux_img_seg"
   ]
  },
  {
   "cell_type": "code",
   "execution_count": null,
   "metadata": {
    "scrolled": true
   },
   "outputs": [],
   "source": [
    "def batch_predict(images):\n",
    "    img = np.transpose(images, (0, 3, 1, 2))\n",
    "    img_t = torch.from_numpy(img)\n",
    "    img_t = img_t.to(device)\n",
    "    \n",
    "    logits = model(img_t[:, 1:2, :, :])\n",
    "    \n",
    "    return logits.detach().cpu().numpy()[:, :]\n",
    "\n",
    "explainer = lime_image.LimeImageExplainer()\n",
    "lime_res = []\n",
    "\n",
    "for i in tqdm(range(64)):\n",
    "    explanation = explainer.explain_instance(img.repeat(1, 3, 1, 1)[i,:,:,:].type(torch.float32).cpu().permute(1, 2, 0).numpy(), \n",
    "                                             batch_predict, # classification function\n",
    "                                             top_labels=3, \n",
    "                                             hide_color=0,\n",
    "                                             num_samples=200,\n",
    "                                             segmentation_fn=segment_circles,\n",
    "                                             progress_bar=False,\n",
    "                                             random_seed=42)\n",
    "\n",
    "    mask = np.zeros((explanation.segments.shape[0], explanation.segments.shape[1], 3), dtype=np.float64)\n",
    "    for k in explanation.local_exp.keys():\n",
    "        for key, val in explanation.local_exp[k]:\n",
    "            mask[:, :, k][explanation.segments == key] = np.abs(val)\n",
    "    lime_res.append(mask)\n"
   ]
  },
  {
   "cell_type": "code",
   "execution_count": null,
   "metadata": {
    "scrolled": false
   },
   "outputs": [],
   "source": [
    "plt.figure(figsize=(25, 25))\n",
    "\n",
    "expl_gen = gt_exp_gen(sorted(glob.glob(VAL_PATH + \"/gt/*.png\")))\n",
    "expl_metric = calc_metric_norm(expl_gen, lime_res, mse, full_data=True, plot=True)"
   ]
  },
  {
   "cell_type": "code",
   "execution_count": null,
   "metadata": {},
   "outputs": [],
   "source": [
    "np.nanmean(np.vstack(expl_metric), axis=0)"
   ]
  },
  {
   "cell_type": "code",
   "execution_count": null,
   "metadata": {},
   "outputs": [],
   "source": [
    "expl_metric"
   ]
  },
  {
   "cell_type": "code",
   "execution_count": null,
   "metadata": {},
   "outputs": [],
   "source": [
    "df_val.iloc[0]"
   ]
  },
  {
   "cell_type": "code",
   "execution_count": null,
   "metadata": {},
   "outputs": [],
   "source": [
    "(1/2 * np.sin(np.pi * (0.0/2))) + (1/4 * np.sin(np.pi * (0.175/2))) + (1/6 * np.sin(np.pi * (0.461/2)))"
   ]
  },
  {
   "cell_type": "code",
   "execution_count": null,
   "metadata": {},
   "outputs": [],
   "source": [
    "aux = np.copy(img.cpu())\n",
    "aux[aux == 1] = 0\n",
    "\n",
    "plt.imshow(aux[0,0,:,:])\n",
    "plt.colorbar()"
   ]
  },
  {
   "cell_type": "code",
   "execution_count": null,
   "metadata": {},
   "outputs": [],
   "source": [
    "model(torch.from_numpy(aux[0:0+1, :, :, :]).to(device))"
   ]
  },
  {
   "cell_type": "code",
   "execution_count": null,
   "metadata": {},
   "outputs": [],
   "source": [
    "from uib_xai.metrics import faithfullness\n",
    "\n",
    "table = PrettyTable()\n",
    "table.field_names = [\"Real metric\", \"Faithfulness\", \"DIFF\"]\n",
    "diff_s = []\n",
    "for i, (sal, x_met) in enumerate(zip(lime_res, expl_metric)):\n",
    "    img = img.to(device).type(torch.float32)\n",
    "    \n",
    "    faith = faithfullness.faithfullness(img[i:i+1,:,:,:], sal, lambda x: [torch.squeeze(model(x)).cpu().detach().numpy()], (50, 50), 0)\n",
    "    faith = np.abs(faith)\n",
    "    \n",
    "    diff = np.abs(x_met - faith)\n",
    "    diff_s.append(diff)\n",
    "    table.add_row([f\"{(x_met):.2f}\", f\"{faith:.2f}\", f\"{diff:.2f}\"])\n",
    "\n",
    "print(table)"
   ]
  },
  {
   "cell_type": "code",
   "execution_count": null,
   "metadata": {},
   "outputs": [],
   "source": [
    "plt.imshow(lime_res[-1])"
   ]
  },
  {
   "cell_type": "markdown",
   "metadata": {},
   "source": [
    "# RISE"
   ]
  },
  {
   "cell_type": "code",
   "execution_count": null,
   "metadata": {},
   "outputs": [],
   "source": [
    "from rise import RISE"
   ]
  },
  {
   "cell_type": "code",
   "execution_count": null,
   "metadata": {},
   "outputs": [],
   "source": [
    "wrapped_model = RISE(model, input_size=(512, 512), n_masks=5000).to(device)"
   ]
  },
  {
   "cell_type": "code",
   "execution_count": null,
   "metadata": {},
   "outputs": [],
   "source": [
    "rise_img = []\n",
    "for i in tqdm(range(64)):\n",
    "    torch.cuda.empty_cache()\n",
    "    with torch.no_grad():\n",
    "        saliency = wrapped_model(img.to(device).type(torch.float32)[i:i+1, :, :, :])\n",
    "        \n",
    "        rise_img.append(saliency.cpu().numpy().transpose((1,2,0)))"
   ]
  },
  {
   "cell_type": "code",
   "execution_count": null,
   "metadata": {
    "scrolled": false
   },
   "outputs": [],
   "source": [
    "plt.figure(figsize=(20,20))\n",
    "\n",
    "expl_gen = gt_exp_gen(sorted(glob.glob(\"./xsds_shape_count_v2/val/gt/*.png\")))\n",
    "mean, std, expl_metric = calc_metric_norm(expl_gen, rise_img, mse, full_data=True, plot=True)"
   ]
  },
  {
   "cell_type": "code",
   "execution_count": null,
   "metadata": {},
   "outputs": [],
   "source": [
    "print(mean, std)"
   ]
  },
  {
   "cell_type": "code",
   "execution_count": null,
   "metadata": {},
   "outputs": [],
   "source": [
    "from uib_xai.metrics import faithfullness\n",
    "\n",
    "table = PrettyTable()\n",
    "table.field_names = [\"Metric\", \"Faithfulness\"]\n",
    "for i, (sal, x_met) in enumerate(zip(rise_img, expl_metric)):\n",
    "    img = img.to(device).type(torch.float32)\n",
    "    \n",
    "    faith = faithfullness.faithfullness(img[i:i+1,:,:,:], sal, lambda x: [torch.squeeze(model(x)).cpu().detach().numpy()], (50, 50), 0)\n",
    "    faith = np.abs(faith)\n",
    "    \n",
    "    table.add_row([f\"{(x_met):.2f}\" , f\"{faith:.2f}\"])\n",
    "    \n",
    "    if i > 10:\n",
    "        break\n",
    "\n",
    "print(table)"
   ]
  },
  {
   "cell_type": "code",
   "execution_count": null,
   "metadata": {},
   "outputs": [],
   "source": [
    "plt.imshow(rise_img[2])\n",
    "plt.title(f\"{rise_img[2].shape}\");"
   ]
  },
  {
   "cell_type": "code",
   "execution_count": null,
   "metadata": {},
   "outputs": [],
   "source": [
    "cv2.imwrite(\"prova.png\", rise_img[2] * 255)"
   ]
  },
  {
   "cell_type": "code",
   "execution_count": null,
   "metadata": {},
   "outputs": [],
   "source": [
    "plt.imshow((img[2,:,:,:].cpu().numpy()[0, :, :] /255) + rise_img[2][:, :, 0])"
   ]
  },
  {
   "cell_type": "code",
   "execution_count": null,
   "metadata": {},
   "outputs": [],
   "source": []
  },
  {
   "cell_type": "code",
   "execution_count": null,
   "metadata": {},
   "outputs": [],
   "source": [
    "img[i,:,:,:].cpu().numpy().shape"
   ]
  },
  {
   "cell_type": "code",
   "execution_count": null,
   "metadata": {},
   "outputs": [],
   "source": [
    "saliency.numpy().transpose((1,2,0)).shape"
   ]
  },
  {
   "cell_type": "code",
   "execution_count": null,
   "metadata": {},
   "outputs": [],
   "source": [
    "plt.figure(figsize=(15, 15))\n",
    "\n",
    "for i, sal in enumerate(rise_img):\n",
    "    plt.subplot(8,8, i+1)\n",
    "    aux = img.to(device).type(torch.float32)[i:i+1, :, :, :].cpu().numpy()[0][0] \n",
    "    aux = aux / aux.max()\n",
    "\n",
    "    plt.imshow(sal) "
   ]
  },
  {
   "cell_type": "code",
   "execution_count": null,
   "metadata": {},
   "outputs": [],
   "source": []
  },
  {
   "cell_type": "code",
   "execution_count": null,
   "metadata": {},
   "outputs": [],
   "source": [
    "saliency.shape"
   ]
  },
  {
   "cell_type": "markdown",
   "metadata": {},
   "source": [
    "# CAM"
   ]
  },
  {
   "cell_type": "code",
   "execution_count": null,
   "metadata": {},
   "outputs": [],
   "source": [
    "print(model)"
   ]
  },
  {
   "cell_type": "code",
   "execution_count": null,
   "metadata": {},
   "outputs": [],
   "source": [
    "from pytorch_grad_cam import GradCAMPlusPlus, ScoreCAM, GradCAM\n",
    "\n",
    "target_layers = [model.module[0].maxpool2]\n",
    "interpreter = ScoreCAM(model=net, target_layers=target_layers, use_cuda=True)\n",
    "\n",
    "imgs = []\n",
    "interpretations = []"
   ]
  },
  {
   "cell_type": "code",
   "execution_count": null,
   "metadata": {},
   "outputs": [],
   "source": [
    "plt.figure(figsize=(25, 25))\n",
    "\n",
    "for i in range(16):\n",
    "    ax1 = plt.subplot(4, 4, i + 1)\n",
    "    res_interpret = interpreter(input_tensor = img[i: i+ 1,:,:,:].type(torch.float32))\n",
    "    grayscale_cam = res_interpret[0, :]\n",
    "    \n",
    "    imgs.append(img[i: i+ 1,:,:,:])\n",
    "    interpretations.append(grayscale_cam)\n",
    "        \n",
    "    plt.imshow(img[i, 0, :, :].cpu().numpy(), cmap='gray');\n",
    "    plt.imshow(grayscale_cam[: ,: ], alpha=.5);\n",
    "#     ax1.title.set_text(f\"GT {np.argmax(labels[i])} Predicció {np.argmax(preds[i])}\")"
   ]
  },
  {
   "cell_type": "code",
   "execution_count": null,
   "metadata": {
    "scrolled": false
   },
   "outputs": [],
   "source": [
    "%matplotlib inline\n",
    "import matplotlib.pyplot as plt\n",
    "\n",
    "plt.figure(figsize=(15,15))\n",
    "\n",
    "for i in range(16):\n",
    "    gt_res = gt[i, :].cpu().detach().numpy()\n",
    "    pred_res = pred[i, :]\n",
    "    \n",
    "    res = f\"GT {str(round(gt_res[0], 2))} | PRED {str(round(pred_res[0], 2))}\"\n",
    "\n",
    "    cam_plus_plus = interpreter(input_tensor = img[i: i+ 1,:,:,:].type(torch.float32))\n",
    "    grayscale_cam = cam_plus_plus[0, :]\n",
    "    grayscale_cam[grayscale_cam < 0.5] = 0\n",
    "\n",
    "    plt.subplot( 4, 4, i + 1)\n",
    "    plt.title(res)\n",
    "    plt.imshow((grayscale_cam * 255).astype(np.uint8))\n",
    "    plt.colorbar()\n",
    "    \n",
    "    cv2.imwrite(f\"./res/{str(i).zfill(3)}.png\", grayscale_cam * 255)"
   ]
  },
  {
   "cell_type": "code",
   "execution_count": null,
   "metadata": {},
   "outputs": [],
   "source": [
    "%matplotlib inline\n",
    "import matplotlib.pyplot as plt\n",
    "\n",
    "plt.figure(figsize=(15,15))\n",
    "\n",
    "for i in range(16):\n",
    "    plt.subplot( 4, 4, i + 1)\n",
    "    plt.imshow(img[i, 0, :, :].cpu().numpy())\n",
    "    plt.colorbar()    "
   ]
  },
  {
   "cell_type": "code",
   "execution_count": null,
   "metadata": {},
   "outputs": [],
   "source": [
    "plt.figure()\n",
    "plt.imshow(img[4, 0, :, :].cpu().numpy())\n",
    "plt.colorbar()"
   ]
  },
  {
   "cell_type": "code",
   "execution_count": null,
   "metadata": {},
   "outputs": [],
   "source": [
    "np.unique(grayscale_cam)"
   ]
  },
  {
   "cell_type": "code",
   "execution_count": null,
   "metadata": {
    "scrolled": false
   },
   "outputs": [],
   "source": [
    "counts, bins = np.histogram(grayscale_cam[grayscale_cam > 0.01])\n",
    "plt.hist(bins[:-1], bins, weights=counts)"
   ]
  },
  {
   "cell_type": "markdown",
   "metadata": {},
   "source": [
    "![SegmentLocal](https://i-download.imgflip.com/ighss.gif \"segment\")"
   ]
  }
 ],
 "metadata": {
  "kernelspec": {
   "display_name": "Python 3",
   "language": "python",
   "name": "python3"
  },
  "language_info": {
   "codemirror_mode": {
    "name": "ipython",
    "version": 3
   },
   "file_extension": ".py",
   "mimetype": "text/x-python",
   "name": "python",
   "nbconvert_exporter": "python",
   "pygments_lexer": "ipython3",
   "version": "3.8.10"
  }
 },
 "nbformat": 4,
 "nbformat_minor": 4
}
