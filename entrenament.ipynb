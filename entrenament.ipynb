{
 "cells": [
  {
   "cell_type": "code",
   "execution_count": 16,
   "metadata": {},
   "outputs": [],
   "source": [
    "from IPython import display\n",
    "\n",
    "import time\n",
    "import copy\n",
    "import glob\n",
    "import os\n",
    "import copy\n",
    "\n",
    "import tqdm\n",
    "import numpy as np\n",
    "from matplotlib import pyplot as plt\n",
    "\n",
    "import torch\n",
    "import torchvision\n",
    "from torch import nn, optim\n",
    "from torch.utils.data import Dataset\n",
    "from torchvision import datasets, models, transforms\n",
    "from torch.utils.data import DataLoader\n",
    "from torchvision.io import ImageReadMode, read_image\n",
    "\n",
    "from xai.model import nets\n",
    "import pylab as pl\n",
    "\n",
    "from mmn_xai.data import dataset as xai_data"
   ]
  },
  {
   "cell_type": "code",
   "execution_count": 35,
   "metadata": {
    "tags": []
   },
   "outputs": [],
   "source": [
    "import random \n",
    "\n",
    "covid_train = glob.glob(\"./in/huse_red/train/covid/*.png\")\n",
    "no_covid_train = glob.glob(\"./in/huse_red/train/nocovid/*.png\")\n",
    "\n",
    "no_covid_train = random.choices(no_covid_train, k=len(covid_train))\n",
    "\n",
    "covid_val = glob.glob(\"./in/huse_red/val/covid/*.png\")\n",
    "no_covid_val = glob.glob(\"./in/huse_red/val/nocovid/*.png\")\n",
    "\n",
    "no_covid_val = random.choices(no_covid_val, k=len(covid_val))"
   ]
  },
  {
   "cell_type": "code",
   "execution_count": 36,
   "metadata": {
    "tags": []
   },
   "outputs": [],
   "source": [
    "dataset_train = xai_data.ImageDataset(covid_train + no_covid_train, \n",
    "                                      (lambda x: read_image(x, ImageReadMode.GRAY)))\n",
    "dataset_val = xai_data.ImageDataset(covid_val + no_covid_val, \n",
    "                                      (lambda x: read_image(x, ImageReadMode.GRAY)))"
   ]
  },
  {
   "cell_type": "code",
   "execution_count": 37,
   "metadata": {},
   "outputs": [],
   "source": [
    "data_loader_train = DataLoader(dataset_train, batch_size=8, shuffle=True)\n",
    "data_loader_val = DataLoader(dataset_val, batch_size=8, shuffle=True)"
   ]
  },
  {
   "cell_type": "markdown",
   "metadata": {},
   "source": [
    "# Train"
   ]
  },
  {
   "cell_type": "markdown",
   "metadata": {},
   "source": [
    "### Fine tunning"
   ]
  },
  {
   "cell_type": "code",
   "execution_count": 6,
   "metadata": {},
   "outputs": [],
   "source": [
    "# Models to choose from [resnet, alexnet, vgg, squeezenet, densenet, inception]\n",
    "MODEL_NAME = \"resnet\"\n",
    "NUM_CLASSES = 2\n",
    "\n",
    "BATCH_SIZE = 16\n",
    "EPOCHS = 100\n",
    "LEARNING_RATE = 0.000005\n",
    "MOMENTUM = 0.985\n",
    "# Flag for feature extracting. When False, we finetune the whole model, when True \n",
    "# we only update the reshaped layer params\n",
    "REGRESSION = False\n",
    "FEATURE_EXTRACT = False\n",
    "\n",
    "DEVICE = \"cuda:1\" if torch.cuda.is_available() else \"cpu\""
   ]
  },
  {
   "cell_type": "code",
   "execution_count": 7,
   "metadata": {},
   "outputs": [
    {
     "name": "stderr",
     "output_type": "stream",
     "text": [
      "/home/collab/env_jupyter/lib/python3.8/site-packages/torchvision/models/_utils.py:208: UserWarning: The parameter 'pretrained' is deprecated since 0.13 and may be removed in the future, please use 'weights' instead.\n",
      "  warnings.warn(\n",
      "/home/collab/env_jupyter/lib/python3.8/site-packages/torchvision/models/_utils.py:223: UserWarning: Arguments other than a weight enum or `None` for 'weights' are deprecated since 0.13 and may be removed in the future. The current behavior is equivalent to passing `weights=ResNet18_Weights.IMAGENET1K_V1`. You can also use `weights=ResNet18_Weights.DEFAULT` to get the most up-to-date weights.\n",
      "  warnings.warn(msg)\n"
     ]
    }
   ],
   "source": [
    "net, input_size = nets.initialize_model(MODEL_NAME, NUM_CLASSES, FEATURE_EXTRACT, use_pretrained=True, device=DEVICE)\n",
    "# net.features[0] = nn.Conv2d(1, 96, kernel_size=7, stride=2, padding=3,bias=False)\n",
    "net.conv1 = nn.Conv2d(1, 64, kernel_size=7, stride=2, padding=3,bias=False)\n",
    "net = net.to(DEVICE)"
   ]
  },
  {
   "cell_type": "code",
   "execution_count": 8,
   "metadata": {},
   "outputs": [],
   "source": [
    "params_to_update = net.parameters()\n",
    "apartir = False\n",
    "\n",
    "if FEATURE_EXTRACT:\n",
    "    params_to_update = []\n",
    "    for name,param in net.named_parameters():\n",
    "        if \"layer4\" in name:\n",
    "            apartir = True\n",
    "            \n",
    "        if apartir:\n",
    "            print(name)\n",
    "            params_to_update.append(param)\n",
    "\n",
    "# Observe that all parameters are being optimized\n",
    "optimizer = optim.SGD(params_to_update, lr=0.001, momentum=0.9)"
   ]
  },
  {
   "cell_type": "code",
   "execution_count": 9,
   "metadata": {},
   "outputs": [],
   "source": [
    "def _show_progress(history, phases):\n",
    "    plt.figure(figsize=(15,10))\n",
    "\n",
    "    for phase in phases:\n",
    "        pl.subplot(1, 2, 1)\n",
    "        pl.title(f'Best Acc: {max(history[phase][\"acc\"])}')\n",
    "\n",
    "        pl.plot(history[phase]['acc'], label=phase.capitalize())\n",
    "        pl.legend()\n",
    "\n",
    "    for phase in phases:\n",
    "        pl.subplot(1, 2, 2)\n",
    "        pl.title(f'Best loss: {min(history[phase][\"loss\"])}')\n",
    "        pl.plot(history[phase]['loss'], label=phase.capitalize())\n",
    "\n",
    "        pl.legend()\n",
    "    display.clear_output(wait=True) \n",
    "    display.display(pl.gcf())\n",
    "    plt.close() \n",
    "    \n",
    "def train_model(\n",
    "    model, \n",
    "    dataloaders, \n",
    "    criterion, \n",
    "    optimizer, \n",
    "    num_epochs=25, \n",
    "    is_inception=False, \n",
    "    do_validation=True, \n",
    "    regression=False,\n",
    "    plot_acc=False,\n",
    "    device=\"cpu\"\n",
    "):\n",
    "    since = time.time()\n",
    "\n",
    "    history = {}\n",
    "    \n",
    "    best_model_wts = copy.deepcopy(model.state_dict())\n",
    "    best_acc = 0.0\n",
    "    best_acc_std = 0.0\n",
    "    best_loss = 0.0\n",
    "    best_loss_std = 0.0\n",
    "    \n",
    "    phases = ['train']\n",
    "    \n",
    "    if do_validation:\n",
    "        phases.append('val')\n",
    "        \n",
    "    epoch_loss = 0\n",
    "    epoch_acc = 0\n",
    "    try:\n",
    "        for epoch in range(num_epochs):\n",
    "            # Each epoch has a training and validation phase\n",
    "            for phase in phases:\n",
    "                if phase == 'train':\n",
    "                    model.train()  # Set model to training mode\n",
    "                else:\n",
    "                    model.eval()   # Set model to evaluate mode\n",
    "\n",
    "                running_loss = []\n",
    "                running_acc = []\n",
    "\n",
    "                pbar = tqdm.tqdm(dataloaders[phase], desc='Time, he\\'s waiting in the wings')\n",
    "                # Iterate over data.\n",
    "                for inputs, labels in pbar:\n",
    "                    inputs = inputs.to(device)\n",
    "                    labels = labels.to(device)\n",
    "\n",
    "                    inputs = inputs.type(torch.float32)\n",
    "\n",
    "                    # zero the parameter gradients\n",
    "                    optimizer.zero_grad()\n",
    "\n",
    "                    # forward\n",
    "                    # track history if only in train\n",
    "                    with torch.set_grad_enabled(phase == 'train'):\n",
    "                        # Get model outputs and calculate loss\n",
    "                        # Special case for inception because in training it has an auxiliary output. In train\n",
    "                        #   mode we calculate the loss by summing the final output and the auxiliary output\n",
    "                        #   but in testing we only consider the final output.\n",
    "                        outputs = model(inputs)\n",
    "\n",
    "                        loss = criterion(outputs.reshape(1, -1), labels.reshape(1, -1))\n",
    "\n",
    "                        # backward + optimize only if in training phase\n",
    "                        if phase == 'train':\n",
    "                            loss.backward()\n",
    "                            optimizer.step()\n",
    "\n",
    "                    # statistics\n",
    "                    running_loss.append((loss.item() * inputs.size(0)) / len(outputs))\n",
    "                    if not regression:\n",
    "                        preds = torch.argmax(outputs, 1)\n",
    "                        labels = torch.argmax(labels, 1)\n",
    "\n",
    "                        aux = (preds == labels)\n",
    "                        acc = (torch.sum(aux).double().cpu().detach().numpy() / len(outputs))\n",
    "                        running_acc.append(acc)\n",
    "                    else:\n",
    "                        acc = 1 - torch.sum(torch.abs(outputs - labels)).double().cpu().detach().numpy() / len(outputs)\n",
    "                        running_acc.append(acc)\n",
    "\n",
    "                    pbar.set_description('Epoch {}/{} - {} - ACC: {:.4f} LOSS: {:.4f}'.format(epoch, num_epochs - 1, phase.capitalize(), np.mean(running_acc), np.mean(running_loss)))\n",
    "\n",
    "                epoch_loss = np.mean(running_loss)\n",
    "                epoch_acc = np.mean(running_acc)\n",
    "\n",
    "                # deep copy the model\n",
    "                if (phase == 'val' or not 'val' in phases) and epoch_acc > best_acc:\n",
    "                    best_acc = epoch_acc\n",
    "                    best_loss = epoch_loss\n",
    "\n",
    "                    best_loss_std = np.std(running_loss)\n",
    "                    best_acc_std = np.std(running_acc)\n",
    "\n",
    "                    best_model_wts = copy.deepcopy(model.state_dict())\n",
    "\n",
    "                if phase not in history:\n",
    "                    history[phase] = {\"acc\": [], \"loss\": []}\n",
    "\n",
    "                history[phase][\"acc\"].append(epoch_acc)\n",
    "                history[phase][\"loss\"].append(epoch_loss)\n",
    "            if plot_acc:\n",
    "                _show_progress(history, phases)\n",
    "    except KeyboardInterrupt:\n",
    "        print('Interrupted')\n",
    "    except Exception as e:\n",
    "        print(e)\n",
    "        traceback.print_exc()\n",
    "    finally:\n",
    "        time_elapsed = time.time() - since\n",
    "        print('Training complete in {:.0f}m {:.0f}s'.format(time_elapsed // 60, time_elapsed % 60))\n",
    "        print('Best val Acc: [{:4f}-{:4f}]'.format(best_acc - best_acc_std/2, best_acc + best_acc_std/2))\n",
    "        \n",
    "        # load best model weights\n",
    "        model.load_state_dict(best_model_wts)\n",
    "        return model, history"
   ]
  },
  {
   "cell_type": "code",
   "execution_count": 34,
   "metadata": {
    "tags": []
   },
   "outputs": [
    {
     "name": "stderr",
     "output_type": "stream",
     "text": [
      "100%|██████████| 15/15 [00:01<00:00, 14.18it/s]\n"
     ]
    },
    {
     "data": {
      "text/plain": [
       "tensor(0.7250)"
      ]
     },
     "execution_count": 34,
     "metadata": {},
     "output_type": "execute_result"
    }
   ],
   "source": [
    "n = 0\n",
    "acum = 0\n",
    "for img, gt in tqdm.tqdm(data_loader_val):\n",
    "    res = abs(torch.argmax(net(img.float().cuda(DEVICE)), axis=1)).cpu()\n",
    "    reduced_gt = torch.argmax(gt, axis=1)\n",
    "    \n",
    "    acum += torch.sum(res == reduced_gt)\n",
    "    n += 1\n",
    "    \n",
    "acum / (n * 8)"
   ]
  },
  {
   "cell_type": "code",
   "execution_count": 26,
   "metadata": {},
   "outputs": [],
   "source": [
    "torch.cuda.empty_cache()"
   ]
  },
  {
   "cell_type": "code",
   "execution_count": 11,
   "metadata": {},
   "outputs": [],
   "source": [
    "# net = nn.DataParallel(net)"
   ]
  },
  {
   "cell_type": "code",
   "execution_count": 23,
   "metadata": {
    "tags": []
   },
   "outputs": [
    {
     "data": {
      "text/plain": [
       "ResNet(\n",
       "  (conv1): Conv2d(1, 64, kernel_size=(7, 7), stride=(2, 2), padding=(3, 3), bias=False)\n",
       "  (bn1): BatchNorm2d(64, eps=1e-05, momentum=0.1, affine=True, track_running_stats=True)\n",
       "  (relu): ReLU(inplace=True)\n",
       "  (maxpool): MaxPool2d(kernel_size=3, stride=2, padding=1, dilation=1, ceil_mode=False)\n",
       "  (layer1): Sequential(\n",
       "    (0): BasicBlock(\n",
       "      (conv1): Conv2d(64, 64, kernel_size=(3, 3), stride=(1, 1), padding=(1, 1), bias=False)\n",
       "      (bn1): BatchNorm2d(64, eps=1e-05, momentum=0.1, affine=True, track_running_stats=True)\n",
       "      (relu): ReLU(inplace=True)\n",
       "      (conv2): Conv2d(64, 64, kernel_size=(3, 3), stride=(1, 1), padding=(1, 1), bias=False)\n",
       "      (bn2): BatchNorm2d(64, eps=1e-05, momentum=0.1, affine=True, track_running_stats=True)\n",
       "    )\n",
       "    (1): BasicBlock(\n",
       "      (conv1): Conv2d(64, 64, kernel_size=(3, 3), stride=(1, 1), padding=(1, 1), bias=False)\n",
       "      (bn1): BatchNorm2d(64, eps=1e-05, momentum=0.1, affine=True, track_running_stats=True)\n",
       "      (relu): ReLU(inplace=True)\n",
       "      (conv2): Conv2d(64, 64, kernel_size=(3, 3), stride=(1, 1), padding=(1, 1), bias=False)\n",
       "      (bn2): BatchNorm2d(64, eps=1e-05, momentum=0.1, affine=True, track_running_stats=True)\n",
       "    )\n",
       "  )\n",
       "  (layer2): Sequential(\n",
       "    (0): BasicBlock(\n",
       "      (conv1): Conv2d(64, 128, kernel_size=(3, 3), stride=(2, 2), padding=(1, 1), bias=False)\n",
       "      (bn1): BatchNorm2d(128, eps=1e-05, momentum=0.1, affine=True, track_running_stats=True)\n",
       "      (relu): ReLU(inplace=True)\n",
       "      (conv2): Conv2d(128, 128, kernel_size=(3, 3), stride=(1, 1), padding=(1, 1), bias=False)\n",
       "      (bn2): BatchNorm2d(128, eps=1e-05, momentum=0.1, affine=True, track_running_stats=True)\n",
       "      (downsample): Sequential(\n",
       "        (0): Conv2d(64, 128, kernel_size=(1, 1), stride=(2, 2), bias=False)\n",
       "        (1): BatchNorm2d(128, eps=1e-05, momentum=0.1, affine=True, track_running_stats=True)\n",
       "      )\n",
       "    )\n",
       "    (1): BasicBlock(\n",
       "      (conv1): Conv2d(128, 128, kernel_size=(3, 3), stride=(1, 1), padding=(1, 1), bias=False)\n",
       "      (bn1): BatchNorm2d(128, eps=1e-05, momentum=0.1, affine=True, track_running_stats=True)\n",
       "      (relu): ReLU(inplace=True)\n",
       "      (conv2): Conv2d(128, 128, kernel_size=(3, 3), stride=(1, 1), padding=(1, 1), bias=False)\n",
       "      (bn2): BatchNorm2d(128, eps=1e-05, momentum=0.1, affine=True, track_running_stats=True)\n",
       "    )\n",
       "  )\n",
       "  (layer3): Sequential(\n",
       "    (0): BasicBlock(\n",
       "      (conv1): Conv2d(128, 256, kernel_size=(3, 3), stride=(2, 2), padding=(1, 1), bias=False)\n",
       "      (bn1): BatchNorm2d(256, eps=1e-05, momentum=0.1, affine=True, track_running_stats=True)\n",
       "      (relu): ReLU(inplace=True)\n",
       "      (conv2): Conv2d(256, 256, kernel_size=(3, 3), stride=(1, 1), padding=(1, 1), bias=False)\n",
       "      (bn2): BatchNorm2d(256, eps=1e-05, momentum=0.1, affine=True, track_running_stats=True)\n",
       "      (downsample): Sequential(\n",
       "        (0): Conv2d(128, 256, kernel_size=(1, 1), stride=(2, 2), bias=False)\n",
       "        (1): BatchNorm2d(256, eps=1e-05, momentum=0.1, affine=True, track_running_stats=True)\n",
       "      )\n",
       "    )\n",
       "    (1): BasicBlock(\n",
       "      (conv1): Conv2d(256, 256, kernel_size=(3, 3), stride=(1, 1), padding=(1, 1), bias=False)\n",
       "      (bn1): BatchNorm2d(256, eps=1e-05, momentum=0.1, affine=True, track_running_stats=True)\n",
       "      (relu): ReLU(inplace=True)\n",
       "      (conv2): Conv2d(256, 256, kernel_size=(3, 3), stride=(1, 1), padding=(1, 1), bias=False)\n",
       "      (bn2): BatchNorm2d(256, eps=1e-05, momentum=0.1, affine=True, track_running_stats=True)\n",
       "    )\n",
       "  )\n",
       "  (layer4): Sequential(\n",
       "    (0): BasicBlock(\n",
       "      (conv1): Conv2d(256, 512, kernel_size=(3, 3), stride=(2, 2), padding=(1, 1), bias=False)\n",
       "      (bn1): BatchNorm2d(512, eps=1e-05, momentum=0.1, affine=True, track_running_stats=True)\n",
       "      (relu): ReLU(inplace=True)\n",
       "      (conv2): Conv2d(512, 512, kernel_size=(3, 3), stride=(1, 1), padding=(1, 1), bias=False)\n",
       "      (bn2): BatchNorm2d(512, eps=1e-05, momentum=0.1, affine=True, track_running_stats=True)\n",
       "      (downsample): Sequential(\n",
       "        (0): Conv2d(256, 512, kernel_size=(1, 1), stride=(2, 2), bias=False)\n",
       "        (1): BatchNorm2d(512, eps=1e-05, momentum=0.1, affine=True, track_running_stats=True)\n",
       "      )\n",
       "    )\n",
       "    (1): BasicBlock(\n",
       "      (conv1): Conv2d(512, 512, kernel_size=(3, 3), stride=(1, 1), padding=(1, 1), bias=False)\n",
       "      (bn1): BatchNorm2d(512, eps=1e-05, momentum=0.1, affine=True, track_running_stats=True)\n",
       "      (relu): ReLU(inplace=True)\n",
       "      (conv2): Conv2d(512, 512, kernel_size=(3, 3), stride=(1, 1), padding=(1, 1), bias=False)\n",
       "      (bn2): BatchNorm2d(512, eps=1e-05, momentum=0.1, affine=True, track_running_stats=True)\n",
       "    )\n",
       "  )\n",
       "  (avgpool): AdaptiveAvgPool2d(output_size=(1, 1))\n",
       "  (fc): Sequential(\n",
       "    (0): Linear(in_features=512, out_features=2048, bias=True)\n",
       "    (1): ReLU(inplace=True)\n",
       "    (2): Dropout(p=0.4, inplace=False)\n",
       "    (3): Linear(in_features=2048, out_features=1024, bias=True)\n",
       "    (4): ReLU(inplace=True)\n",
       "    (5): Dropout(p=0.4, inplace=False)\n",
       "    (6): Linear(in_features=1024, out_features=512, bias=True)\n",
       "    (7): ReLU(inplace=True)\n",
       "    (8): Dropout(p=0.6, inplace=False)\n",
       "    (9): Linear(in_features=512, out_features=2, bias=True)\n",
       "    (10): Softmax(dim=None)\n",
       "  )\n",
       ")"
      ]
     },
     "execution_count": 23,
     "metadata": {},
     "output_type": "execute_result"
    }
   ],
   "source": [
    "net"
   ]
  },
  {
   "cell_type": "code",
   "execution_count": null,
   "metadata": {},
   "outputs": [
    {
     "data": {
      "image/png": "[encoded data removed]",
      "text/plain": [
       "<Figure size 1080x720 with 2 Axes>"
      ]
     },
     "metadata": {},
     "output_type": "display_data"
    },
    {
     "name": "stderr",
     "output_type": "stream",
     "text": [
      "Epoch 37/99 - Train - ACC: 0.9934 LOSS: 0.5175: 100%|██████████| 38/38 [00:03<00:00, 10.06it/s]\n",
      "Epoch 37/99 - Val - ACC: 0.7917 LOSS: 0.6190: 100%|██████████| 15/15 [00:00<00:00, 16.36it/s]\n"
     ]
    }
   ],
   "source": [
    "if REGRESSION:\n",
    "    criterion = nn.L1Loss()\n",
    "else:\n",
    "    criterion = nn.BCEWithLogitsLoss()\n",
    "optimizer = optimizer_ft = torch.optim.Adam(net.parameters(), lr=LEARNING_RATE, weight_decay=0.005)\n",
    "\n",
    "# Train and evaluate\n",
    "net, hist = train_model(\n",
    "    net, \n",
    "    {\"train\": data_loader_train, \"val\": data_loader_val}, \n",
    "    criterion, \n",
    "    optimizer, \n",
    "    num_epochs=EPOCHS, \n",
    "    do_validation=True,\n",
    "    regression=REGRESSION,\n",
    "    plot_acc=True,\n",
    "    device = DEVICE\n",
    ")\n",
    "\n",
    "# torch.save(net.state_dict(), name)"
   ]
  },
  {
   "cell_type": "code",
   "execution_count": null,
   "metadata": {},
   "outputs": [],
   "source": [
    "torch.save(net.state_dict(), \"./out/huse_2.pt\")"
   ]
  },
  {
   "cell_type": "markdown",
   "metadata": {},
   "source": [
    "## SIDU"
   ]
  },
  {
   "cell_type": "code",
   "execution_count": 13,
   "metadata": {},
   "outputs": [],
   "source": [
    "model_ft = model_ft.eval()"
   ]
  },
  {
   "cell_type": "code",
   "execution_count": null,
   "metadata": {},
   "outputs": [],
   "source": [
    "# type(model_ft.layer4[1].conv2.weight)\n",
    "activation = {}\n",
    "\n",
    "def get_activation(name):\n",
    "    def hook(model, input, output):\n",
    "        activation[name] = output.detach()\n",
    "\n",
    "    return hook\n",
    "\n",
    "model_ft.module.layer4[1].conv2.register_forward_hook(get_activation('layer4_1_conv2'))"
   ]
  },
  {
   "cell_type": "code",
   "execution_count": null,
   "metadata": {},
   "outputs": [],
   "source": [
    "plt.figure(figsize=(25, 25))\n",
    "\n",
    "for i in tqdm.tqdm(range(25)):\n",
    "    ax1 = plt.subplot(5, 5, i + 1)\n",
    "\n",
    "    img_iter = img[i:i+1,:,:,:]\n",
    "    model_ft(img_iter)\n",
    "    activacio_conv = activation['layer4_1_conv2']\n",
    "    \n",
    "    explanation = sidu.sidu(model_ft, activacio_conv, img_iter)\n",
    "    explanation = explanation.cpu().detach().numpy()\n",
    "    \n",
    "    plt.imshow(img_iter[0, 0,:,:].cpu().numpy(), cmap='gray');\n",
    "    plt.imshow(explanation, alpha=.5);\n",
    "    ax1.title.set_text(f\"GT {np.argmax(labels[i])} Predicció {np.argmax(preds[i])}\");\n",
    "    torch.cuda.empty_cache()\n",
    "    # sidu.sidu(model_ft, model_ft.layer4[1].conv2, img[0,:,:,:])"
   ]
  },
  {
   "cell_type": "code",
   "execution_count": null,
   "metadata": {},
   "outputs": [],
   "source": [
    "plt.figure(figsize=(25, 25))\n",
    "torch.cuda.empty_cache()\n",
    "\n",
    "for i in tqdm.tqdm(range(25)):\n",
    "    ax1 = plt.subplot(5, 5, i + 1)\n",
    "\n",
    "    img_iter = img[i:i+1,:,:,:]\n",
    "    model_ft(img_iter)\n",
    "    activacio_conv = activation['layer4_1_conv2']\n",
    "    \n",
    "    numpy_img = img[i, 0, :, :].cpu().numpy()\n",
    "    \n",
    "    explanation = sidu.sidu(model_ft, activacio_conv, img_iter)\n",
    "    explanation = explanation.cpu().detach().numpy()\n",
    "    \n",
    "    percentiles_value = np.percentile(explanation, 90)\n",
    "    \n",
    "    plt.imshow((explanation > percentiles_value) * numpy_img, cmap='gray');\n",
    "    \n",
    "    ax1.title.set_text(f\"GT {np.argmax(labels[i])} Predicció {np.argmax(preds[i])}\");\n",
    "    torch.cuda.empty_cache()"
   ]
  },
  {
   "cell_type": "markdown",
   "metadata": {},
   "source": [
    "# GradCAM"
   ]
  },
  {
   "cell_type": "code",
   "execution_count": null,
   "metadata": {},
   "outputs": [],
   "source": [
    "interpreter = GradCAMInterpreter(model_ft.module, [\"0\", \"1\"], None, (512, 512), \"layer4\")\n",
    "imgs = []\n",
    "interpretations = []"
   ]
  },
  {
   "cell_type": "code",
   "execution_count": null,
   "metadata": {},
   "outputs": [],
   "source": [
    "plt.figure(figsize=(25, 25))\n",
    "\n",
    "for i in range(25):\n",
    "    ax1 = plt.subplot(5, 5, i + 1)\n",
    "    cam = interpreter.interpret(img[i: i+ 1,:,:,:])\n",
    "    \n",
    "    imgs.append(img[i:i+1, :, :, :])\n",
    "    interpretations.append(cam[0, 0, : ,: ].cpu().numpy())\n",
    "    \n",
    "    plt.imshow(img[i, 0, :, :].cpu().numpy(), cmap='gray');\n",
    "    plt.imshow(cam[0, 0, : ,: ].cpu().numpy(), alpha=.5);\n",
    "    ax1.title.set_text(f\"GT {np.argmax(labels[i])} Predicció {np.argmax(preds[i])}\")"
   ]
  },
  {
   "cell_type": "code",
   "execution_count": null,
   "metadata": {},
   "outputs": [],
   "source": [
    "plt.figure(figsize=(25, 25))\n",
    "\n",
    "for i, (numpy_cam, numpy_img) in enumerate(zip(interpretations, imgs)):\n",
    "    ax1 = plt.subplot(5, 5, i + 1)\n",
    "    numpy_img = numpy_img[0, 0, :, :].cpu().numpy()\n",
    "    \n",
    "    percentiles_value = np.percentile(numpy_cam, 90)\n",
    "    \n",
    "    plt.imshow((numpy_cam > percentiles_value) * numpy_img, cmap='gray');\n",
    "    ax1.title.set_text(f\"GT {np.argmax(labels[i])} Predicció {np.argmax(preds[i])}\")"
   ]
  },
  {
   "cell_type": "markdown",
   "metadata": {},
   "source": [
    "## Metrics"
   ]
  },
  {
   "cell_type": "code",
   "execution_count": null,
   "metadata": {
    "scrolled": true
   },
   "outputs": [],
   "source": [
    "torch.cuda.empty_cache()\n",
    "model_ft = model_ft.eval()\n",
    "\n",
    "aopc_values = uib_metrics.aopc.aopc(imgs, interpretations, lambda x: torch.squeeze(model_ft(x)), (50, 50), 0, True)\n",
    "aopc_values"
   ]
  },
  {
   "cell_type": "code",
   "execution_count": null,
   "metadata": {},
   "outputs": [],
   "source": [
    "sparcity_value = [uib_metrics.sparcity.sparcity(interpret) for interpret in interpretations]\n",
    "sparcity_value = np.mean(sparcity_value)\n",
    "sparcity_value"
   ]
  },
  {
   "cell_type": "code",
   "execution_count": null,
   "metadata": {},
   "outputs": [],
   "source": [
    "regions, regions_values = x_utils.get_regions(interpretations[1], (10, 10))"
   ]
  },
  {
   "cell_type": "code",
   "execution_count": null,
   "metadata": {},
   "outputs": [],
   "source": [
    "aux = deletion(imgs[2], torch.tensor(interpretations[2]), lambda x: torch.squeeze(model_ft(x)).cpu().detach().numpy(), (20, 20), 0)"
   ]
  },
  {
   "cell_type": "code",
   "execution_count": null,
   "metadata": {},
   "outputs": [],
   "source": [
    "from matplotlib import pyplot as plt\n",
    "\n",
    "_, _ perts, sal = aux\n",
    "\n",
    "aux2 = np.array(perts)\n",
    "aux1 = np.array(sal)\n",
    "\n",
    "plt.plot(aux2 / aux2.max())\n",
    "plt.plot(aux1 / aux1.max())"
   ]
  },
  {
   "cell_type": "code",
   "execution_count": null,
   "metadata": {},
   "outputs": [],
   "source": [
    "model_ft(imgs[0])"
   ]
  },
  {
   "cell_type": "code",
   "execution_count": null,
   "metadata": {},
   "outputs": [],
   "source": [
    "uib_metrics.calibration_rate.deletion(imgs[0], torch.tensor(interpretations[0]), lambda x: torch.squeeze(model_ft(x)).cpu().detach().numpy(), (5, 5), 0)"
   ]
  },
  {
   "cell_type": "code",
   "execution_count": null,
   "metadata": {},
   "outputs": [],
   "source": [
    "uib_metrics.calibration_rate.deletion(imgs[0], torch.tensor(interpretations[0]), lambda x: torch.squeeze(model_ft(x)).cpu().detach().numpy(), (10, 10), 0)"
   ]
  },
  {
   "cell_type": "code",
   "execution_count": null,
   "metadata": {},
   "outputs": [],
   "source": [
    "f_one = 0\n",
    "for img, interpret in zip(imgs[:5], interpretations[:5]):\n",
    "    f_one += faithfullness(img, torch.tensor(interpret), lambda x: torch.squeeze(model_ft(x)).cpu().detach().numpy(), (1, 1), 0)\n",
    "    print(f_one)\n",
    "f_one /= 5"
   ]
  },
  {
   "cell_type": "markdown",
   "metadata": {},
   "source": [
    "# GradCAM ++"
   ]
  },
  {
   "cell_type": "code",
   "execution_count": null,
   "metadata": {},
   "outputs": [],
   "source": [
    "target_layers = [model_ft.module.layer4[-1]]\n",
    "interpreter = GradCAMPlusPlus(model=model_ft, target_layers=target_layers, use_cuda=True)"
   ]
  },
  {
   "cell_type": "code",
   "execution_count": null,
   "metadata": {},
   "outputs": [],
   "source": [
    "imgs[0].shape"
   ]
  },
  {
   "cell_type": "code",
   "execution_count": null,
   "metadata": {},
   "outputs": [],
   "source": [
    "plt.figure(figsize=(25, 25))\n",
    "\n",
    "for i in range(25):\n",
    "    ax1 = plt.subplot(5, 5, i + 1)\n",
    "    cam_plus_plus = interpreter(input_tensor = img[i: i+ 1,:,:,:])\n",
    "    grayscale_cam = cam_plus_plus[0, :]\n",
    "        \n",
    "    plt.imshow(img[i, 0, :, :].cpu().numpy(), cmap='gray');\n",
    "    plt.imshow(grayscale_cam[: ,: ], alpha=.5);\n",
    "    ax1.title.set_text(f\"GT {np.argmax(labels[i])} Predicció {np.argmax(preds[i])}\")"
   ]
  },
  {
   "cell_type": "code",
   "execution_count": null,
   "metadata": {},
   "outputs": [],
   "source": [
    "plt.figure(figsize=(25, 25))\n",
    "\n",
    "for i in range(25):\n",
    "    ax1 = plt.subplot(5, 5, i + 1)\n",
    "    cam_plus_plus = interpreter(input_tensor = img[i: i+ 1,:,:,:])\n",
    "    grayscale_cam = cam_plus_plus[0, :]\n",
    "    \n",
    "    numpy_img = img[i, 0, :, :].cpu().numpy()\n",
    "    \n",
    "    percentiles_value = np.percentile(grayscale_cam, 90)\n",
    "    \n",
    "    plt.imshow((grayscale_cam > percentiles_value) * numpy_img, cmap='gray');\n",
    "    ax1.title.set_text(f\"GT {np.argmax(labels[i])} Predicció {np.argmax(preds[i])}\")"
   ]
  },
  {
   "cell_type": "markdown",
   "metadata": {},
   "source": [
    "# Score cam"
   ]
  },
  {
   "cell_type": "code",
   "execution_count": null,
   "metadata": {},
   "outputs": [],
   "source": [
    "target_layers = [model_ft.module.layer4[-1]]\n",
    "interpreter = ScoreCAM(model=model_ft, target_layers=target_layers, use_cuda=True)\n",
    "\n",
    "imgs = []\n",
    "interpretations = []"
   ]
  },
  {
   "cell_type": "code",
   "execution_count": null,
   "metadata": {},
   "outputs": [],
   "source": [
    "labels[0]"
   ]
  },
  {
   "cell_type": "code",
   "execution_count": null,
   "metadata": {},
   "outputs": [],
   "source": [
    "plt.figure(figsize=(25, 25))\n",
    "\n",
    "for i in range(25):\n",
    "    ax1 = plt.subplot(5, 5, i + 1)\n",
    "    cam_plus_plus = interpreter(input_tensor = img[i: i+ 1,:,:,:])\n",
    "    grayscale_cam = cam_plus_plus[0, :]\n",
    "    \n",
    "    imgs.append(img[i: i+ 1,:,:,:])\n",
    "    interpretations.append(grayscale_cam)\n",
    "        \n",
    "    plt.imshow(img[i, 0, :, :].cpu().numpy(), cmap='gray');\n",
    "    plt.imshow(grayscale_cam[: ,: ], alpha=.5);\n",
    "    ax1.title.set_text(f\"GT {np.argmax(labels[i])} Predicció {np.argmax(preds[i])}\")"
   ]
  },
  {
   "cell_type": "code",
   "execution_count": null,
   "metadata": {},
   "outputs": [],
   "source": [
    "aux = torch.zeros_like(img[18: 18+ 1,:,:,:])\n",
    "# aux[:] = 255"
   ]
  },
  {
   "cell_type": "code",
   "execution_count": null,
   "metadata": {},
   "outputs": [],
   "source": [
    "model_ft(aux)"
   ]
  },
  {
   "cell_type": "code",
   "execution_count": null,
   "metadata": {},
   "outputs": [],
   "source": [
    "len(interpretations)"
   ]
  },
  {
   "cell_type": "code",
   "execution_count": null,
   "metadata": {},
   "outputs": [],
   "source": [
    "plt.figure(figsize=(25, 25))\n",
    "\n",
    "for i, (numpy_cam, numpy_img) in enumerate(zip(interpretations, imgs)):\n",
    "    ax1 = plt.subplot(5, 5, i + 1)\n",
    "    numpy_img = numpy_img[0, 0, :, :].cpu().numpy()\n",
    "    \n",
    "    percentiles_value = np.percentile(numpy_cam, 90)\n",
    "    \n",
    "    plt.imshow((numpy_cam > percentiles_value) * numpy_img, cmap='gray');\n",
    "#     ax1.title.set_text(f\"GT {np.argmax(labels[i])} Predicció {np.argmax(preds[i])}\")\n",
    "    \n",
    "# plt.figure(figsize=(25, 25))\n",
    "\n",
    "# for i, (img, intepret) in enumerate(zip(imgs, interpretations)):\n",
    "#     ax1 = plt.subplot(5, 5, i + 1)\n",
    "    \n",
    "#     numpy_img = img[0,0,:,:].cpu().numpy()\n",
    "    \n",
    "#     percentiles_value = np.percentile(intepret, 90)\n",
    "    \n",
    "#     plt.imshow((intepret > percentiles_value) * numpy_img, cmap='gray');\n",
    "#     ax1.title.set_text(f\"GT {int((labels[i]) > 0.5)} Predicció {int(preds[i] > 0.5)}\")"
   ]
  },
  {
   "cell_type": "code",
   "execution_count": null,
   "metadata": {},
   "outputs": [],
   "source": [
    "model_ft(torch.zeros_like(imgs[0]))"
   ]
  },
  {
   "cell_type": "code",
   "execution_count": null,
   "metadata": {},
   "outputs": [],
   "source": [
    "from uib_xai.metrics import utils as x_utils\n",
    "from scipy import stats\n",
    "from numpy import linalg as LA\n",
    "\n",
    "def deletion(image, saliency_map, prediction_func, region_shape, perturbation_value):\n",
    "    \"\"\"\n",
    "\n",
    "    Args:\n",
    "        image:\n",
    "        saliency_map:\n",
    "        prediction_func:\n",
    "        region_shape:\n",
    "        perturbation_value:\n",
    "\n",
    "    Returns:\n",
    "\n",
    "    \"\"\"\n",
    "    regions, regions_values = x_utils.get_regions(saliency_map.numpy(), region_shape)\n",
    "\n",
    "    pre_prediction = prediction_func(image)\n",
    "    original_id = np.argmax(pre_prediction)\n",
    "\n",
    "    img_perturbed = torch.clone(image.detach())\n",
    "    perturbation_scores = []\n",
    "    scores = [pre_prediction[original_id]]\n",
    "\n",
    "    for region in regions:\n",
    "        img_perturbed = x_utils.perturb_img(img_perturbed, region, region_shape, perturbation_value)\n",
    "        now_pred = prediction_func(img_perturbed)\n",
    "        \n",
    "        scores.append(now_pred[original_id])\n",
    "        \n",
    "        perturbation_scores.append(pre_prediction[original_id] - now_pred[original_id])\n",
    "        pre_prediction = now_pred\n",
    "\n",
    "    faith, _ = stats.pearsonr(perturbation_scores, regions_values)\n",
    "\n",
    "    return faith, img_perturbed, perturbation_scores, regions_values, scores"
   ]
  },
  {
   "cell_type": "code",
   "execution_count": null,
   "metadata": {},
   "outputs": [],
   "source": [
    "from matplotlib import pyplot as plt"
   ]
  },
  {
   "cell_type": "markdown",
   "metadata": {},
   "source": [
    "### Valor a 1"
   ]
  },
  {
   "cell_type": "code",
   "execution_count": null,
   "metadata": {},
   "outputs": [],
   "source": [
    "fig = plt.figure(figsize=(25, 25))\n",
    "\n",
    "for i in range(25):\n",
    "    torch.cuda.empty_cache()\n",
    "    dc, perturbation_tot, perts, sal, scores  = deletion(imgs[i], torch.tensor(interpretations[i]), lambda x: torch.squeeze(model_ft(x)).cpu().detach().numpy(), (10, 10), 1)\n",
    "\n",
    "    perts = np.array(perts)[:]\n",
    "    sal = np.array(sal)[:]\n",
    "    \n",
    "    ax = plt.subplot(5, 10, i+1)\n",
    "    plt.plot(perts / perts.max(), label=\"Score perturbation\")\n",
    "    plt.plot(sal / sal.max(), label=\"Saliency\")\n",
    "    ax.title.set_text(f\"DC {dc}\")\n",
    "    plt.legend();\n",
    "    \n",
    "    plt.subplot(5, 10, i+25)\n",
    "    plt.plot(scores)"
   ]
  },
  {
   "cell_type": "markdown",
   "metadata": {},
   "source": [
    "## Valor a 0"
   ]
  },
  {
   "cell_type": "code",
   "execution_count": null,
   "metadata": {},
   "outputs": [],
   "source": [
    "fig = plt.figure(figsize=(25, 25))\n",
    "\n",
    "for i in range(9):\n",
    "    torch.cuda.empty_cache()\n",
    "    dc, perturbation_tot, perts, sal, scores  = deletion(imgs[i], torch.tensor(interpretations[i]), lambda x: torch.squeeze(model_ft(x)).cpu().detach().numpy(), (10, 10), 0)\n",
    "\n",
    "    perts = np.array(perts)[:]\n",
    "    sal = np.array(sal)[:]\n",
    "    \n",
    "    ax = plt.subplot(6, 3, i+1)\n",
    "    plt.plot(perts / perts.max(), label=\"Score perturbation\")\n",
    "    plt.plot(sal / sal.max(), label=\"Saliency\")\n",
    "    ax.title.set_text(f\"DC {dc}\")\n",
    "    plt.legend();\n",
    "    \n",
    "    plt.subplot(6, 3, i+10)\n",
    "    plt.plot(scores)"
   ]
  },
  {
   "cell_type": "code",
   "execution_count": null,
   "metadata": {},
   "outputs": [],
   "source": [
    "plt.plot(aux2 / aux2.max(), label=\"Score perturbation\")\n",
    "plt.plot(aux1 / aux1.max(), label=\"Saliency\")\n",
    "plt.legend();"
   ]
  },
  {
   "cell_type": "code",
   "execution_count": null,
   "metadata": {},
   "outputs": [],
   "source": [
    "plt.plot(scores)"
   ]
  },
  {
   "cell_type": "markdown",
   "metadata": {},
   "source": [
    "### Valor a mitjana"
   ]
  },
  {
   "cell_type": "code",
   "execution_count": null,
   "metadata": {},
   "outputs": [],
   "source": [
    "plt.plot(aux2 / aux2.max(), label=\"Score perturbation\")\n",
    "plt.plot(aux1 / aux1.max(), label=\"Saliency\")\n",
    "plt.legend();"
   ]
  },
  {
   "cell_type": "code",
   "execution_count": null,
   "metadata": {},
   "outputs": [],
   "source": [
    "plt.plot(scores)"
   ]
  },
  {
   "cell_type": "markdown",
   "metadata": {},
   "source": [
    "### Valor a 0"
   ]
  },
  {
   "cell_type": "code",
   "execution_count": null,
   "metadata": {},
   "outputs": [],
   "source": [
    "plt.plot(aux2 / aux2.max(), label=\"Score perturbation\")\n",
    "plt.plot(aux1 / aux1.max(), label=\"Saliency\")\n",
    "plt.legend();"
   ]
  },
  {
   "cell_type": "code",
   "execution_count": null,
   "metadata": {
    "scrolled": true
   },
   "outputs": [],
   "source": [
    "plt.plot(scores)"
   ]
  },
  {
   "cell_type": "code",
   "execution_count": null,
   "metadata": {},
   "outputs": [],
   "source": [
    "model_ft = model_ft.eval()"
   ]
  },
  {
   "cell_type": "code",
   "execution_count": null,
   "metadata": {},
   "outputs": [],
   "source": [
    "model_ft(imgs[0])"
   ]
  },
  {
   "cell_type": "code",
   "execution_count": null,
   "metadata": {},
   "outputs": [],
   "source": [
    "model_ft(perturbation_tot)"
   ]
  },
  {
   "cell_type": "code",
   "execution_count": null,
   "metadata": {},
   "outputs": [],
   "source": [
    "plt.figure()\n",
    "plt.subplot(1, 2, 1)\n",
    "plt.imshow(imgs[0].cpu().numpy()[0, 0, :, :])\n",
    "\n",
    "plt.subplot(1, 2, 2)\n",
    "plt.imshow(perturbation_tot.cpu().numpy()[0, 0, :, :])"
   ]
  },
  {
   "cell_type": "code",
   "execution_count": null,
   "metadata": {},
   "outputs": [],
   "source": [
    "aux[0]"
   ]
  },
  {
   "cell_type": "markdown",
   "metadata": {},
   "source": [
    "# Smooth Grad"
   ]
  },
  {
   "cell_type": "code",
   "execution_count": null,
   "metadata": {},
   "outputs": [],
   "source": [
    "interpretor = SmoothGrad(model_ft, [], None, 0.8, 100)"
   ]
  },
  {
   "cell_type": "code",
   "execution_count": null,
   "metadata": {
    "scrolled": true
   },
   "outputs": [],
   "source": [
    "plt.figure(figsize=(25, 25))\n",
    "\n",
    "for i in range(25):\n",
    "    ax1 = plt.subplot(5, 5, i + 1)   \n",
    "    endpoint = interpretor.interpret(img[i: i+ 1,:,:,:])\n",
    "\n",
    "    min_end = endpoint.min()\n",
    "    max_end = endpoint.max()\n",
    "\n",
    "    endpoint = (endpoint - min_end) / (max_end - min_end)\n",
    "        \n",
    "    plt.imshow(img[i, 0, :, :].cpu().numpy(), cmap='gray');\n",
    "    plt.imshow(endpoint[0, 0, :, :] * 255, alpha=.5);\n",
    "    ax1.title.set_text(f\"GT {np.argmax(labels[i])} Predicció {np.argmax(preds[i])}\")"
   ]
  },
  {
   "cell_type": "code",
   "execution_count": null,
   "metadata": {},
   "outputs": [],
   "source": [
    "plt.figure(figsize=(25, 25))\n",
    "\n",
    "for i in range(25):\n",
    "    ax1 = plt.subplot(5, 5, i + 1)\n",
    "    endpoint = interpretor.interpret(img[i: i+ 1,:,:,:])\n",
    "\n",
    "    min_end = endpoint.min()\n",
    "    max_end = endpoint.max()\n",
    "\n",
    "    endpoint = (endpoint - min_end) / (max_end - min_end)\n",
    "    endpoint = endpoint[0, 0, :, :]\n",
    "    \n",
    "    percentiles_value = np.percentile(endpoint, 90)\n",
    "    numpy_img = img[i, 0, :, :].cpu().numpy()\n",
    "    \n",
    "    plt.imshow((endpoint > percentiles_value) * numpy_img, cmap='gray');\n",
    "    ax1.title.set_text(f\"GT {np.argmax(labels[i])} Predicció {np.argmax(preds[i])}\")"
   ]
  },
  {
   "cell_type": "markdown",
   "metadata": {},
   "source": [
    "# K. Simonyan et al."
   ]
  },
  {
   "cell_type": "code",
   "execution_count": null,
   "metadata": {},
   "outputs": [],
   "source": [
    "interpretor = VanillaBackprop(model_ft, [], None)"
   ]
  },
  {
   "cell_type": "code",
   "execution_count": null,
   "metadata": {},
   "outputs": [],
   "source": [
    "plt.figure(figsize=(25, 25))\n",
    "\n",
    "for i in range(25):\n",
    "    ax1 = plt.subplot(5, 5, i + 1)   \n",
    "    endpoint = interpretor.interpret(img[i: i+ 1,:,:,:])\n",
    "\n",
    "    min_end = endpoint.min()\n",
    "    max_end = endpoint.max()\n",
    "\n",
    "    endpoint = (endpoint - min_end) / (max_end - min_end)\n",
    "        \n",
    "    plt.imshow(img[i, 0, :, :].cpu().numpy(), cmap='gray');\n",
    "    plt.imshow(endpoint[0, 0, :, :] * 255, alpha=.5);\n",
    "    ax1.title.set_text(f\"GT {np.argmax(labels[i])} Predicció {np.argmax(preds[i])}\")"
   ]
  },
  {
   "cell_type": "code",
   "execution_count": null,
   "metadata": {},
   "outputs": [],
   "source": [
    "plt.figure(figsize=(25, 25))\n",
    "\n",
    "for i in range(25):\n",
    "    ax1 = plt.subplot(5, 5, i + 1)\n",
    "    endpoint = interpretor.interpret(img[i: i+ 1,:,:,:])\n",
    "\n",
    "    min_end = endpoint.min()\n",
    "    max_end = endpoint.max()\n",
    "\n",
    "    endpoint = (endpoint - min_end) / (max_end - min_end)\n",
    "    endpoint = endpoint[0, 0, :, :]\n",
    "    \n",
    "    percentiles_value = np.percentile(endpoint, 90)\n",
    "    numpy_img = img[i, 0, :, :].cpu().numpy()\n",
    "    \n",
    "    plt.imshow((endpoint > percentiles_value) * numpy_img, cmap='gray');\n",
    "    ax1.title.set_text(f\"GT {np.argmax(labels[i])} Predicció {np.argmax(preds[i])}\")"
   ]
  },
  {
   "cell_type": "markdown",
   "metadata": {},
   "source": [
    "# Guided Backpropagation"
   ]
  },
  {
   "cell_type": "code",
   "execution_count": null,
   "metadata": {},
   "outputs": [],
   "source": [
    "interpretor = GuidedBackprop(model_ft, [], None)"
   ]
  },
  {
   "cell_type": "code",
   "execution_count": null,
   "metadata": {},
   "outputs": [],
   "source": [
    "plt.figure(figsize=(25, 25))\n",
    "\n",
    "for i in range(25):\n",
    "    ax1 = plt.subplot(5, 5, i + 1)   \n",
    "    endpoint = interpretor.interpret(img[i: i+ 1,:,:,:])\n",
    "\n",
    "    min_end = endpoint.min()\n",
    "    max_end = endpoint.max()\n",
    "\n",
    "    endpoint = (endpoint - min_end) / (max_end - min_end)\n",
    "        \n",
    "    plt.imshow(img[i, 0, :, :].cpu().numpy(), cmap='gray');\n",
    "    plt.imshow(endpoint[0, 0, :, :] * 255, alpha=.5);\n",
    "    ax1.title.set_text(f\"GT {np.argmax(labels[i])} Predicció {np.argmax(preds[i])}\")"
   ]
  },
  {
   "cell_type": "code",
   "execution_count": null,
   "metadata": {},
   "outputs": [],
   "source": [
    "plt.figure(figsize=(25, 25))\n",
    "\n",
    "for i in range(25):\n",
    "    ax1 = plt.subplot(5, 5, i + 1)\n",
    "    endpoint = interpretor.interpret(img[i: i+ 1,:,:,:])\n",
    "\n",
    "    min_end = endpoint.min()\n",
    "    max_end = endpoint.max()\n",
    "\n",
    "    endpoint = (endpoint - min_end) / (max_end - min_end)\n",
    "    endpoint = endpoint[0, 0, :, :]\n",
    "    \n",
    "    percentiles_value = np.percentile(endpoint, 90)\n",
    "    numpy_img = img[i, 0, :, :].cpu().numpy()\n",
    "    \n",
    "    plt.imshow((endpoint > percentiles_value) * numpy_img, cmap='gray');\n",
    "    ax1.title.set_text(f\"GT {np.argmax(labels[i])} Predicció {np.argmax(preds[i])}\")"
   ]
  },
  {
   "cell_type": "markdown",
   "metadata": {},
   "source": [
    "# Integrated Gradients"
   ]
  },
  {
   "cell_type": "code",
   "execution_count": null,
   "metadata": {},
   "outputs": [],
   "source": [
    "baseline = torch.zeros(img[0:1,:,:,:].size())\n",
    "interpretor = IntegratedGrad(model_ft, [], None, baseline, 100)"
   ]
  },
  {
   "cell_type": "code",
   "execution_count": null,
   "metadata": {},
   "outputs": [],
   "source": [
    "plt.figure(figsize=(25, 25))\n",
    "\n",
    "for i in range(16):\n",
    "    ax1 = plt.subplot(4, 4, i + 1)   \n",
    "    \n",
    "    baseline = torch.zeros(img[i: i+ 1,:,:,:].size())\n",
    "\n",
    "    interpretor = IntegratedGrad(model_ft, [], None, baseline, 100)\n",
    "#     endpoint = interpretor.interpret(img)\n",
    "    \n",
    "    endpoint = interpretor.interpret(img[i: i+ 1,:,:,:])\n",
    "\n",
    "    min_end = endpoint.min()\n",
    "    max_end = endpoint.max()\n",
    "\n",
    "    endpoint = (endpoint - min_end) / (max_end - min_end)\n",
    "        \n",
    "    plt.imshow(img[i, 0, :, :].cpu().numpy(), cmap='gray');\n",
    "    plt.imshow(endpoint[0, 0, :, :] * 255, alpha=.5);\n",
    "    ax1.title.set_text(f\"GT {np.argmax(labels[i])} Predicció {np.argmax(preds[i])}\")"
   ]
  },
  {
   "cell_type": "code",
   "execution_count": null,
   "metadata": {},
   "outputs": [],
   "source": [
    "plt.figure(figsize=(25, 25))\n",
    "\n",
    "for i in range(16):\n",
    "    ax1 = plt.subplot(4, 4, i + 1)   \n",
    "#     endpoint = interpretor.interpret(img[i: i+ 1,:,:,:])\n",
    "    baseline = torch.zeros(img[i: i+ 1,:,:,:].size())\n",
    "\n",
    "    interpretor = IntegratedGrad(model_ft, [], None, baseline, 100)\n",
    "    endpoint = interpretor.interpret(img[i: i+ 1,:,:,:])\n",
    "\n",
    "    min_end = endpoint.min()\n",
    "    max_end = endpoint.max()\n",
    "\n",
    "    endpoint = (endpoint - min_end) / (max_end - min_end)\n",
    "    endpoint = endpoint[0, 0, :, :]\n",
    "    \n",
    "    percentiles_value = np.percentile(endpoint, 90)\n",
    "    numpy_img = img[i, 0, :, :].cpu().numpy()\n",
    "        \n",
    "    plt.imshow((endpoint > percentiles_value) * numpy_img, cmap='gray');\n",
    "    ax1.title.set_text(f\"GT {np.argmax(labels[i])} Predicció {np.argmax(preds[i])}\")  "
   ]
  },
  {
   "cell_type": "code",
   "execution_count": null,
   "metadata": {},
   "outputs": [],
   "source": [
    "from lime import lime_image\n",
    "import torch.nn.functional as F\n",
    "from skimage.segmentation import mark_boundaries"
   ]
  },
  {
   "cell_type": "code",
   "execution_count": null,
   "metadata": {},
   "outputs": [],
   "source": [
    "def batch_predict(images):\n",
    "    img = np.transpose(images, (0, 3, 1, 2))\n",
    "    img_t = torch.from_numpy(img)\n",
    "    img_t = img_t.to(device)\n",
    "\n",
    "    logits = model_ft(img_t)\n",
    "    probs = F.softmax(logits, dim=1)\n",
    "    return probs.detach().cpu().numpy()"
   ]
  },
  {
   "cell_type": "code",
   "execution_count": null,
   "metadata": {},
   "outputs": [],
   "source": [
    "img[0,:,:,:].cpu().permute(1, 2, 0).numpy().shape"
   ]
  },
  {
   "cell_type": "code",
   "execution_count": null,
   "metadata": {},
   "outputs": [],
   "source": [
    "explainer = lime_image.LimeImageExplainer()"
   ]
  },
  {
   "cell_type": "code",
   "execution_count": null,
   "metadata": {
    "scrolled": true
   },
   "outputs": [],
   "source": [
    "plt.figure(figsize=(25, 25))\n",
    "\n",
    "for i in range(25):\n",
    "    ax1 = plt.subplot(5, 5, i + 1)   \n",
    "\n",
    "    explanation = explainer.explain_instance(img[i,:,:,:].cpu().permute(1, 2, 0).numpy(), \n",
    "                                             batch_predict, # classification function\n",
    "                                             top_labels=5, \n",
    "                                             hide_color=0, \n",
    "                                             num_samples=500) # number of images that will be sent to classification function\n",
    "\n",
    "    temp, mask = explanation.get_image_and_mask(explanation.top_labels[0], num_features=5, \n",
    "                                                hide_rest=True, min_weight=0.1, positive_only=False)\n",
    "\n",
    "    #Select the same class explained on the figures above.\n",
    "    ind =  explanation.top_labels[0]\n",
    "\n",
    "    #Map each explanation weight to the corresponding superpixel\n",
    "    dict_heatmap = dict(explanation.local_exp[ind])\n",
    "    heatmap = np.vectorize(dict_heatmap.get)(explanation.segments)\n",
    "    heatmap = np.abs(heatmap)\n",
    "\n",
    "    min_end = heatmap.min()\n",
    "    max_end = heatmap.max()\n",
    "\n",
    "    heatmap = (heatmap - min_end) / (max_end - min_end)\n",
    "    plt.imshow(img[i, 0, :, :].cpu().numpy(), cmap='gray');\n",
    "    plt.imshow(heatmap * 255, alpha=.5);\n",
    "    ax1.title.set_text(f\"GT {np.argmax(labels[i])} Predicció {np.argmax(preds[i])}\")  "
   ]
  },
  {
   "cell_type": "code",
   "execution_count": null,
   "metadata": {},
   "outputs": [],
   "source": [
    "plt.figure(figsize=(25, 25))\n",
    "\n",
    "for i in range(25):\n",
    "    ax1 = plt.subplot(5, 5, i + 1)   \n",
    "\n",
    "    explanation = explainer.explain_instance(img[i,:,:,:].cpu().permute(1, 2, 0).numpy(), \n",
    "                                             batch_predict, # classification function\n",
    "                                             top_labels=5, \n",
    "                                             hide_color=0, \n",
    "                                             num_samples=500) # number of images that will be sent to classification function\n",
    "\n",
    "    temp, mask = explanation.get_image_and_mask(explanation.top_labels[0], num_features=5, \n",
    "                                                hide_rest=True, min_weight=0.1, positive_only=False)\n",
    "\n",
    "    #Select the same class explained on the figures above.\n",
    "    ind =  explanation.top_labels[0]\n",
    "\n",
    "    #Map each explanation weight to the corresponding superpixel\n",
    "    dict_heatmap = dict(explanation.local_exp[ind])\n",
    "    heatmap = np.vectorize(dict_heatmap.get)(explanation.segments)\n",
    "    heatmap = np.abs(heatmap)\n",
    "\n",
    "    min_end = heatmap.min()\n",
    "    max_end = heatmap.max()\n",
    "\n",
    "    heatmap = (heatmap - min_end) / (max_end - min_end)\n",
    "    percentiles_value = np.percentile(heatmap, 90)\n",
    "    numpy_img = img[i, 0, :, :].cpu().numpy()\n",
    "        \n",
    "    plt.imshow((heatmap > percentiles_value) * numpy_img, cmap='gray');\n",
    "    ax1.title.set_text(f\"GT {np.argmax(labels[i])} Predicció {np.argmax(preds[i])}\")  \n",
    "    \n",
    "#     plt.imshow(img[i, 0, :, :].cpu().numpy(), cmap='gray');\n",
    "#     plt.imshow(heatmap * 255, alpha=.5);\n",
    "#     ax1.title.set_text(f\"GT {np.argmax(labels[i])} Predicció {np.argmax(preds[i])}\")  "
   ]
  }
 ],
 "metadata": {
  "kernelspec": {
   "display_name": "Python 3.8",
   "language": "python",
   "name": "python3"
  },
  "language_info": {
   "codemirror_mode": {
    "name": "ipython",
    "version": 3
   },
   "file_extension": ".py",
   "mimetype": "text/x-python",
   "name": "python",
   "nbconvert_exporter": "python",
   "pygments_lexer": "ipython3",
   "version": "3.8.10"
  }
 },
 "nbformat": 4,
 "nbformat_minor": 4
}
