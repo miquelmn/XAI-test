{
 "cells": [
  {
   "cell_type": "code",
   "execution_count": 1,
   "metadata": {},
   "outputs": [],
   "source": [
    "import glob\n",
    "import os\n",
    "\n",
    "import cv2\n",
    "import numpy as np\n",
    "from matplotlib import pyplot as plt\n",
    "\n",
    "import torch\n",
    "from torch import nn\n",
    "from torch.utils.data import DataLoader\n",
    "from torchvision.io import ImageReadMode, read_image\n",
    "\n",
    "from xai.model import nets, methods\n",
    "from mmn_xai.methods import sidu\n",
    "from mmn_xai.data import dataset as xai_data"
   ]
  },
  {
   "cell_type": "code",
   "execution_count": 2,
   "metadata": {},
   "outputs": [],
   "source": [
    "# Models to choose from [resnet, alexnet, vgg, squeezenet, densenet, inception]\n",
    "MODEL_NAME = \"resnet\"\n",
    "NUM_CLASSES = 2\n",
    "\n",
    "BATCH_SIZE = 8\n",
    "EPOCHS = 15\n",
    "LEARNING_RATE = 0.0005\n",
    "MOMENTUM = 0.9\n",
    "# Flag for feature extracting. When False, we finetune the whole model, when True \n",
    "# we only update the reshaped layer params\n",
    "REGRESSION = True\n",
    "FEATURE_EXTRACT = False\n",
    "# DEVICE = \"cuda\" if torch.cuda.is_available() else \"cpu\"\n",
    "DEVICE = torch.device('cuda:0')"
   ]
  },
  {
   "cell_type": "code",
   "execution_count": 3,
   "metadata": {},
   "outputs": [],
   "source": [
    "net, input_size = nets.initialize_model(\"resnet\", NUM_CLASSES, FEATURE_EXTRACT, use_pretrained=True, device=DEVICE)\n",
    "net.conv1 = nn.Conv2d(1, 64, kernel_size=7, stride=2, padding=3,bias=False)\n",
    "net = net.to(DEVICE)"
   ]
  },
  {
   "cell_type": "code",
   "execution_count": 4,
   "metadata": {},
   "outputs": [],
   "source": [
    "state = torch.load(\"./out/model_3.pt\") #val_acc ~ 0.8\n",
    "# state = { \".\".join(k.split(\".\")[1:]):v for k, v in state.items()}\n",
    "# net = nn.DataParallel(net)\n",
    "net.load_state_dict(state)\n",
    "net = net.eval()"
   ]
  },
  {
   "cell_type": "code",
   "execution_count": 5,
   "metadata": {},
   "outputs": [],
   "source": [
    "class Gray2RGB(nn.Module):\n",
    "    def __init__(self, *args, **kwargs):\n",
    "        super().__init__(*args, **kwargs)\n",
    "\n",
    "    def forward(self, x):\n",
    "        return x.repeat(1, 3, 1, 1)    "
   ]
  },
  {
   "cell_type": "markdown",
   "metadata": {},
   "source": [
    "# Data"
   ]
  },
  {
   "cell_type": "code",
   "execution_count": 6,
   "metadata": {},
   "outputs": [],
   "source": [
    "import os\n",
    "\n",
    "PATHS = []\n",
    "\n",
    "def llegir_image(path, mode):\n",
    "    global PATHS\n",
    "    _, name = os.path.split(path)\n",
    "    \n",
    "    PATHS.append(name)\n",
    "    \n",
    "    return read_image(path, mode)\n",
    "    \n",
    "dataset = xai_data.ImageDataset(glob.glob(\"./in/COVIDGR/val/**/*.jpg\"),  (lambda x: llegir_image(x, ImageReadMode.GRAY)))\n",
    "data_loader = DataLoader(dataset, batch_size=BATCH_SIZE, shuffle=False)"
   ]
  },
  {
   "cell_type": "code",
   "execution_count": 7,
   "metadata": {},
   "outputs": [
    {
     "name": "stderr",
     "output_type": "stream",
     "text": [
      "Generating filters: 100%|██████████| 6000/6000 [00:08<00:00, 695.70it/s]\n"
     ]
    }
   ],
   "source": [
    "explainers = methods.get_xai_methods(net, net.layer4[1].conv2, DEVICE)"
   ]
  },
  {
   "cell_type": "code",
   "execution_count": 8,
   "metadata": {},
   "outputs": [
    {
     "name": "stderr",
     "output_type": "stream",
     "text": [
      "/home/collab/env_jupyter/lib/python3.8/site-packages/torch/nn/modules/container.py:141: UserWarning: Implicit dimension choice for softmax has been deprecated. Change the call to include dim=X as an argument.\n",
      "  input = module(input)\n"
     ]
    },
    {
     "name": "stdout",
     "output_type": "stream",
     "text": [
      "230 52\n"
     ]
    }
   ],
   "source": [
    "subfolders = [\"imgs\", \"xai\", \"xai_10\", \"xai_25\", \"xai_50\", \"xai_75\"]\n",
    "iguals = 0\n",
    "diffs = 0\n",
    "\n",
    "for i, (img, gt) in enumerate(data_loader):\n",
    "    pred = net(img[:, 0:1, :, :].float().to(DEVICE)).cpu().detach().numpy()\n",
    "    expl = explainers[\"grad_cam\"](img.type(torch.float32))\n",
    "    for ib in range(gt.shape[0]):\n",
    "        gt_str = dataset.map(int(np.argmax(gt[ib])))\n",
    "        pred_str = dataset.map(int(np.argmax(pred[ib])))\n",
    "        \n",
    "        if gt_str == pred_str:\n",
    "            iguals += 1\n",
    "        else:\n",
    "            diffs += 1\n",
    "        \n",
    "        img_3d = cv2.cvtColor(img[ib, 0, :, :].cpu().detach().numpy(), cv2.COLOR_GRAY2BGR )\n",
    "        \n",
    "        for part, img_2_save in {\"img\": img_3d, \"xai\": (expl[ib] * 255)}.items(): \n",
    "            folder_path = os.path.join(\".\", \"out\", \"res\", part, gt_str, pred_str)\n",
    "            os.makedirs(folder_path, exist_ok=True)\n",
    "\n",
    "            cv2.imwrite(os.path.join(folder_path, PATHS[ib]), img_2_save)\n",
    "        \n",
    "        for i, (ths, name_part) in enumerate(zip([0.9, 0.75, 0.5, 0.25], subfolders[2:])):\n",
    "            mask = (expl[ib] > ths).astype(np.uint8)\n",
    "            contours, _ = cv2.findContours(mask, cv2.RETR_LIST, cv2.CHAIN_APPROX_SIMPLE)\n",
    "            img_border = cv2.drawContours(np.copy(img_3d), contours, -1, (0,255,255), 2)\n",
    "            \n",
    "            folder_path = os.path.join(\".\", \"out\", \"res\", name_part, gt_str, pred_str)\n",
    "            os.makedirs(folder_path, exist_ok=True)\n",
    "            \n",
    "            \n",
    "            cv2.imwrite(os.path.join(folder_path, PATHS[ib]), img_border)\n",
    "    PATHS = []        \n",
    "print(iguals, diffs)"
   ]
  },
  {
   "cell_type": "code",
   "execution_count": null,
   "metadata": {},
   "outputs": [],
   "source": []
  }
 ],
 "metadata": {
  "kernelspec": {
   "display_name": "Python 3.8",
   "language": "python",
   "name": "python3"
  },
  "language_info": {
   "codemirror_mode": {
    "name": "ipython",
    "version": 3
   },
   "file_extension": ".py",
   "mimetype": "text/x-python",
   "name": "python",
   "nbconvert_exporter": "python",
   "pygments_lexer": "ipython3",
   "version": "3.8.10"
  }
 },
 "nbformat": 4,
 "nbformat_minor": 4
}
